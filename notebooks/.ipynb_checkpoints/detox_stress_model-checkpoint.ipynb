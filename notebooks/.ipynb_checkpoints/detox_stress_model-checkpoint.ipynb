{
 "cells": [
  {
   "cell_type": "code",
   "execution_count": 1,
   "id": "92074913-7a2e-4215-8188-6f87f11462a4",
   "metadata": {},
   "outputs": [
    {
     "name": "stderr",
     "output_type": "stream",
     "text": [
      "\u001b[32m\u001b[1m  Activating\u001b[22m\u001b[39m project at `~/Projects/Working/ErCite/chemicalstressors`\n"
     ]
    }
   ],
   "source": [
    "using Pkg\n",
    "Pkg.activate(\"..\")\n",
    "\n",
    "using Distributions, LinearAlgebra, MiCRM, EasyFit, Distances, StatsBase\n",
    "using OrdinaryDiffEq, DiffEqCallbacks\n",
    "using CairoMakie, Colors, ColorSchemes\n",
    "using JLD2\n",
    "using Optim, ForwardDiff"
   ]
  },
  {
   "cell_type": "code",
   "execution_count": 2,
   "id": "de5b87f9-2f5c-464d-9b8a-4b0e75fe94c4",
   "metadata": {},
   "outputs": [
    {
     "name": "stdout",
     "output_type": "stream",
     "text": [
      "\u001b[32m\u001b[1mStatus\u001b[22m\u001b[39m `~/Projects/Working/ErCite/chemicalstressors/Project.toml`\n",
      " \u001b[90m [13f3f980] \u001b[39mCairoMakie v0.10.0\n",
      " \u001b[90m [35d6a980] \u001b[39mColorSchemes v3.20.0\n",
      " \u001b[90m [5ae59095] \u001b[39mColors v0.12.8\n",
      " \u001b[90m [459566f4] \u001b[39mDiffEqCallbacks v2.24.3\n",
      " \u001b[90m [b4f34e82] \u001b[39mDistances v0.10.7\n",
      " \u001b[90m [31c24e10] \u001b[39mDistributions v0.25.79\n",
      " \u001b[90m [fde71243] \u001b[39mEasyFit v0.5.7\n",
      " \u001b[90m [f6369f11] \u001b[39mForwardDiff v0.10.32\n",
      " \u001b[90m [033835bb] \u001b[39mJLD2 v0.4.29\n",
      " \u001b[90m [20f20a25] \u001b[39mMakieCore v0.6.0\n",
      " \u001b[90m [a39c0ef7] \u001b[39mMiCRM v0.0.2 `https://github.com/CleggTom/MiCRM.jl.git#main`\n",
      " \u001b[90m [429524aa] \u001b[39mOptim v1.7.4\n",
      " \u001b[90m [1dea7af3] \u001b[39mOrdinaryDiffEq v6.35.1\n",
      " \u001b[90m [2913bbd2] \u001b[39mStatsBase v0.33.21\n",
      " \u001b[90m [0c5d862f] \u001b[39mSymbolics v4.13.0\n"
     ]
    }
   ],
   "source": [
    "Pkg.status()"
   ]
  },
  {
   "cell_type": "markdown",
   "id": "7dbfc8b5-8252-43d5-9d39-86f557588ccb",
   "metadata": {},
   "source": [
    "# Introduction\n",
    "\n",
    "In this notebook I do some exploratory analysis of a model in which stressors are linked to consumer dynamics by uptake. This uptake has negative consequences for consumers and removes the resources from the environment. \n",
    "\n",
    "The basic model is as follows:\n",
    "\\begin{align}\n",
    "    \\frac{dC}{dt} &= C_i \\left(\\sum_{\\alpha} R_{\\alpha} u_{i \\alpha} \\gamma_{\\alpha}(1 - \\lambda) - m_i\\right)\\\\\n",
    "    \\frac{dR}{dt} &= \\rho_\\alpha - R_{\\alpha} \\omega_\\alpha - \\sum_{i} C_i  R_{\\alpha} u_{i \\alpha} + \\sum_{\\beta} R_{\\beta} \\sum_{i} C_i u_{i \\beta} l_{\\beta \\alpha}\n",
    "\\end{align}"
   ]
  },
  {
   "cell_type": "markdown",
   "id": "f58022ba-4b6d-42dd-876d-d29c7f9dab68",
   "metadata": {},
   "source": [
    "Or in a diagram:\n",
    "\n",
    "<center>\n",
    "<img src=\"figs/StressorDiagram.png\" width=\"400\">\n",
    "</center>\n",
    "\n",
    "Consumers uptake and leak resources as normal. The stressor acts as a resource but has a negative effect on growth of consumer populations. "
   ]
  },
  {
   "cell_type": "markdown",
   "id": "efb68358-3bf7-4754-8c46-e6da7dff83f4",
   "metadata": {},
   "source": [
    "## Code"
   ]
  },
  {
   "cell_type": "code",
   "execution_count": 284,
   "id": "4d28bc27-0d34-477c-b214-55c2e91a76d1",
   "metadata": {
    "tags": []
   },
   "outputs": [
    {
     "data": {
      "text/plain": [
       "f_ω (generic function with 1 method)"
      ]
     },
     "execution_count": 284,
     "metadata": {},
     "output_type": "execute_result"
    }
   ],
   "source": [
    "#solve system with stressor\n",
    "#derivatives\n",
    "function growth_MiCRM_detox!(dx,x,p,t,i)\n",
    "    #mortality\n",
    "    dx[i] += -p.m[i] * x[i]\n",
    "    #resource uptake\n",
    "    for α = 1:p.M\n",
    "        tmp = 0.0\n",
    "        for β = 1:p.M\n",
    "            tmp += p.l[α,β]\n",
    "        end\n",
    "        dx[i] += x[α + p.N] * x[i] * p.u[i,α] * (1 - tmp) * p.kw.γ[i,α]\n",
    "    end\n",
    "end\n",
    "\n",
    "#derivative function\n",
    "dx!(dx,x,p,t) = MiCRM.Simulations.dx!(dx,x,p,t; growth! = growth_MiCRM_detox!)\n",
    "\n",
    "\n",
    "#params\n",
    "function fu(N,M,kw)\n",
    "    u = zeros(N,M)\n",
    "    u[:, 1 : (M-1)] .= MiCRM.Parameters.modular_uptake(N,M - 1, N_modules = 5, s_ratio = kw[:u_ratio]) * kw[:u_tot]\n",
    "    u[:, end] .= ones(N)\n",
    "    return(u)\n",
    "end\n",
    "\n",
    "function fl(N,M,kw)\n",
    "    l = MiCRM.Parameters.modular_leakage(M; N_modules = 5, s_ratio = kw[:l_ratio], λ = kw[:λ])\n",
    "    #dont leak to or from stressor\n",
    "    l[:,end] .= 0.0\n",
    "    l[end,:] .= 0.0\n",
    "    [l[i,:] .=  kw[:λ] * l[i,:] ./ sum(l[i,:]) for i = 1:(M-1)]\n",
    "    return(l)\n",
    "end\n",
    "\n",
    "#Dirchlet U matricies\n",
    "function dirchlet_uptake(N,M,kw)\n",
    "    u = zeros(N,M)\n",
    "    u[:,1 : end-1] .= Array(rand(Dirichlet(M-1, kw[:au]), N)')\n",
    "    u[:,end] .= rand(Dirichlet(N, 1.0), 1)\n",
    "    return(u)\n",
    "end\n",
    "\n",
    "#Dirchlet L matricies\n",
    "function dirchlet_leakage(N,M,kw)\n",
    "    l = zeros(M,M)\n",
    "    for α = 1:M-2\n",
    "        l[α, α+1 : end-1] .= rand(Dirichlet(M - 1 - α, kw[:al]), 1)\n",
    "    end\n",
    "    # l[1 : end-1, 1 : end-1] .= Array(rand(Dirichlet(M-1, kw[:al]), M-1)')\n",
    "    return(l * kw[:λ])\n",
    "end\n",
    "\n",
    "function fρ(N,M,kw)\n",
    "    ρ = zeros(M) \n",
    "    ρ[1] = M * M\n",
    "    ρ[end] = 0.0\n",
    "    return(ρ)\n",
    "end\n",
    "\n",
    "f_ω(N,M,kw) = fill(1.0, M)"
   ]
  },
  {
   "cell_type": "code",
   "execution_count": 288,
   "id": "588e3e82-53d9-41eb-9b50-4b658876cc22",
   "metadata": {
    "tags": []
   },
   "outputs": [
    {
     "name": "stdout",
     "output_type": "stream",
     "text": [
      "  0.045180 seconds (927 allocations: 288.141 KiB)\n",
      "  0.036984 seconds (897 allocations: 278.219 KiB)\n"
     ]
    }
   ],
   "source": [
    "N,M = 10,25\n",
    "\n",
    "#gamma\n",
    "γ = ones(N,M)\n",
    "γ[:,end] .= -1.0\n",
    "\n",
    "#generate test parameters\n",
    "p = MiCRM.Parameters.generate_params(N, M, f_u = dirchlet_uptake, f_l = dirchlet_leakage, f_ρ = fρ, λ = 0.7, γ = γ, au = 0.2, al = 1.0)\n",
    "\n",
    "#simualtion params\n",
    "x0 = ones(N+M)\n",
    "x0[end] = 0.0\n",
    "t = (0.0,1e5)\n",
    "\n",
    "prob = ODEProblem(dx!, x0, t, p)\n",
    "\n",
    "@time sol1 = solve(prob, AutoTsit5(Rosenbrock23()));\n",
    "@time sol2 = solve(prob, AutoTsit5(Rosenbrock23()), callback = TerminateSteadyState(1e-8,1e-6));"
   ]
  },
  {
   "cell_type": "code",
   "execution_count": 289,
   "id": "528ad8a1-5769-4a19-8e9c-e31252b3db6e",
   "metadata": {},
   "outputs": [
    {
     "data": {
      "image/png": "[encoded data removed]"
     },
     "execution_count": 289,
     "metadata": {},
     "output_type": "execute_result"
    }
   ],
   "source": [
    "plot_sol(sol,ax) = Makie.series!(ax, sol.t, sol[:,:], solid_color = \"black\")\n",
    "\n",
    "f = Figure(resolution = (600,300))\n",
    "ax = Axis(f[1,1])\n",
    "plot_sol(sol2,ax)\n",
    "f"
   ]
  },
  {
   "cell_type": "code",
   "execution_count": 290,
   "id": "c6121546-6986-4722-b99a-0faba3002ac2",
   "metadata": {},
   "outputs": [
    {
     "data": {
      "text/plain": [
       "10-element Vector{Float64}:\n",
       "  -2.9862168978815846e-28\n",
       "   9.087858898504521e-45\n",
       "   4.701494931478872e-17\n",
       "   1.7425587088286192e-27\n",
       "  26.768293525970787\n",
       "  49.8265428543119\n",
       " 123.31534039322553\n",
       "   2.207349833333749e-44\n",
       " 344.162190257659\n",
       "   3.1753347512976977"
      ]
     },
     "execution_count": 290,
     "metadata": {},
     "output_type": "execute_result"
    }
   ],
   "source": [
    "sol1[end][1:N]"
   ]
  },
  {
   "cell_type": "markdown",
   "id": "b423ae51-8b92-4fe0-b538-84c59ec99cc5",
   "metadata": {},
   "source": [
    "# Simulation details"
   ]
  },
  {
   "cell_type": "markdown",
   "id": "9b6d12b8-473f-494d-b862-81d13466e998",
   "metadata": {},
   "source": [
    "## Measuring responses\n",
    "\n",
    "we consider three aspects of the stress response over different timescales. \n",
    "\n",
    "1. Degree of amplification of a pulse of chemical stressor\n",
    "2. The rate of return after a pulse of chemical stressor\n",
    "3. The change in equilbirium state following chronic exposure to the stressor. \n",
    "\n",
    "<img src=\"figs/pulse.png\" width=\"400\">\n"
   ]
  },
  {
   "cell_type": "markdown",
   "id": "bfed4f71-156d-44a6-a107-4a77101e1144",
   "metadata": {},
   "source": [
    "## Interactions\n",
    "\n",
    "We consider how these responses are modified by the community context and how interactions between consumer populations affect the response. \n",
    "\n",
    "* cooperation increases robustness? (Oña 2022)\n",
    "\n",
    "* competition increases sensitvtiy (Violle et al. 2010)\n"
   ]
  },
  {
   "cell_type": "markdown",
   "id": "41dc7b34-9052-471a-b856-f5e16f72e379",
   "metadata": {},
   "source": [
    "### partitioning leakage and competition\n",
    "\n",
    "To partition the contributions of leakage and competition for resources we first consider the dyanmic equations, extracting the total effects of uptake and leakage on the $\\alpha^{\\text{th}}$ resource:\n",
    "\n",
    "\\begin{align}\n",
    "    L_{\\alpha} &= \\sum_{i \\beta} C_i R_{\\beta} u_{i \\beta} l_{\\beta \\alpha}, \\\\\n",
    "    U_{\\alpha} &= \\sum_{i} C_i R_{\\alpha} u_{i \\alpha}.\n",
    "\\end{align}\n",
    "\n",
    "We then consdier how these fluxes are affected by consumer species with the quantites:\n",
    "\n",
    "\\begin{align}\n",
    "    \\frac{d L_{\\alpha}}{d C_i} &= \\sum_{\\beta} R_{\\beta} u_{i \\beta} l_{\\beta \\alpha}, \\\\\n",
    "    \\frac{d U_{\\alpha}}{d C_i} &= R_{\\alpha} u_{i \\alpha},\n",
    "\\end{align}\n",
    "\n",
    "and weight their effects on consumers by considering the effect of resources from consumer growth\n",
    "\n",
    "\\begin{align}\n",
    "    \\frac{d g_i}{d R_{\\alpha}} = u_{i \\alpha} \\gamma_{i \\alpha} (1 - \\lambda)\n",
    "\\end{align}\n",
    "\n",
    "thus the effect of consumer $j$ on $i$ due to leakage and uptake respectively are:\n",
    "\\begin{align}\n",
    "    a^{L}_{i j} &= \\sum_{\\alpha} \\frac{d g_i}{d R_{\\alpha}} \\frac{d L_{\\alpha}}{d C_j} = \\sum_{\\alpha} \\big[u_{i \\alpha} \\gamma_{i \\alpha} (1 - \\lambda) \\big] \\big[\\sum_{\\beta} R_{\\beta} u_{j \\beta} l_{\\beta \\alpha} \\big] \\\\\n",
    "    a^{U}_{i j} &= \\sum_{\\alpha} \\frac{d g_i}{d R_{\\alpha}} \\frac{d U_{\\alpha}}{d C_j} = \\sum_{\\alpha} \\big[u_{i \\alpha} \\gamma_{i \\alpha} (1 - \\lambda) \\big] \\big[R_{\\alpha} u_{j \\alpha} \\big]\n",
    "\\end{align}"
   ]
  },
  {
   "cell_type": "code",
   "execution_count": 11,
   "id": "f3da4048-337a-4c1a-9bad-2bb44976349a",
   "metadata": {},
   "outputs": [
    {
     "data": {
      "text/plain": [
       "get_L_mat (generic function with 1 method)"
      ]
     },
     "execution_count": 11,
     "metadata": {},
     "output_type": "execute_result"
    }
   ],
   "source": [
    "dgdR(p, R, i, a) = p.u[i,a] * p.kw.γ[i,a] * (1 - p.kw.λ)\n",
    "\n",
    "function dLdC(p, R, j, a)\n",
    "    v = 0.0\n",
    "    for b = 1:p.M\n",
    "        v += p.l[b,a] * R[b] * p.u[j,b]\n",
    "    end\n",
    "    return v\n",
    "end\n",
    "\n",
    "dUdC(p, R, j, a) = R[a] * p.u[j,a]\n",
    "\n",
    "function a_L(p,R,i,j)\n",
    "    v = 0.0\n",
    "    for a = 1:p.M\n",
    "        v += dgdR(p,R,i,a) * dLdC(p,R,j,a)\n",
    "    end\n",
    "    return(v)\n",
    "end\n",
    "\n",
    "function a_U(p,R,i,j)\n",
    "    v = 0.0\n",
    "    for a = 1:p.M\n",
    "        v += dgdR(p,R,i,a) * dUdC(p,R,j,a)\n",
    "    end\n",
    "    return(v)\n",
    "end\n",
    "\n",
    "get_U_mat(p,R) = [a_U(p,R,i,j) for i = 1:p.N , j = 1:p.N]\n",
    "get_L_mat(p,R) = [a_L(p,R,i,j) for i = 1:p.N , j = 1:p.N]"
   ]
  },
  {
   "cell_type": "code",
   "execution_count": 12,
   "id": "2e6047a5-cacd-4478-990c-08254d7b6da3",
   "metadata": {},
   "outputs": [
    {
     "ename": "LoadError",
     "evalue": "UndefVarError: R not defined",
     "output_type": "error",
     "traceback": [
      "UndefVarError: R not defined",
      "",
      "Stacktrace:",
      " [1] top-level scope",
      "   @ In[12]:1",
      " [2] eval",
      "   @ ./boot.jl:368 [inlined]",
      " [3] include_string(mapexpr::typeof(REPL.softscope), mod::Module, code::String, filename::String)",
      "   @ Base ./loading.jl:1428"
     ]
    }
   ],
   "source": [
    "get_U_mat(p,R)\n",
    "get_L_mat(p,R)\n",
    "\n",
    "@time a_U_mat = get_U_mat(p,R)\n",
    "@time a_L_mat = get_L_mat(p,R);"
   ]
  },
  {
   "cell_type": "code",
   "execution_count": 13,
   "id": "d0fd2da7-a1a9-4cc5-9c53-b86cf5b9e7a2",
   "metadata": {},
   "outputs": [
    {
     "name": "stdout",
     "output_type": "stream",
     "text": [
      "  0.000009 seconds (1 allocation: 896 bytes)\n",
      "  0.000041 seconds (1 allocation: 896 bytes)\n"
     ]
    },
    {
     "data": {
      "image/png": "[encoded data removed]"
     },
     "execution_count": 13,
     "metadata": {},
     "output_type": "execute_result"
    }
   ],
   "source": [
    "R = sol1[end][p.N+1 : end]\n",
    "\n",
    "get_U_mat(p,R)\n",
    "get_L_mat(p,R)\n",
    "\n",
    "@time a_U_mat = get_U_mat(p,R)\n",
    "@time a_L_mat = get_L_mat(p,R)\n",
    "\n",
    "f = Figure(resolution = (500,250))\n",
    "\n",
    "ax1 = Axis(f[1,1])\n",
    "ax2 = Axis(f[1,2])\n",
    "\n",
    "heatmap!(ax1, a_L_mat)\n",
    "heatmap!(ax2, a_U_mat)\n",
    "\n",
    "f"
   ]
  },
  {
   "cell_type": "markdown",
   "id": "e4439891-1f8e-4309-8297-78207c0561b6",
   "metadata": {
    "tags": []
   },
   "source": [
    "## Resource Specialisation $s$\n",
    "the degree to which consumers tend to specialise on their own resources\n",
    "\n",
    "<center>\n",
    "<img src=\"figs/Uptake_spec.png\" width=\"400\">\n",
    "</center>"
   ]
  },
  {
   "cell_type": "code",
   "execution_count": 14,
   "id": "e0ae5583-e568-441a-96c1-a9d17bac5c06",
   "metadata": {
    "tags": []
   },
   "outputs": [
    {
     "data": {
      "image/png": "[encoded data removed]"
     },
     "execution_count": 14,
     "metadata": {},
     "output_type": "execute_result"
    }
   ],
   "source": [
    "f = Figure(resolution = (600,300))\n",
    "\n",
    "ax1 = Axis(f[1,1],title = \"Low Specialisation\")\n",
    "ax2 = Axis(f[1,2],title = \"High Specialisation\")\n",
    "\n",
    "heatmap!(ax1, fu(50,26,Dict(:u_ratio => 1.0, :u_tot => 10.0)), colorrange = (0.0,1.0))\n",
    "heatmap!(ax2, fu(50,26,Dict(:u_ratio => 100.0, :u_tot => 10.0)), colorrange = (0.0,1.0))\n",
    "\n",
    "f"
   ]
  },
  {
   "cell_type": "markdown",
   "id": "ee2cf1df-7468-4316-abfb-1d0568c375ed",
   "metadata": {
    "tags": []
   },
   "source": [
    "## Leakage $\\lambda$\n",
    "The amount of resources leaked as metabolic by-products\n",
    "\n",
    "<center>\n",
    "<img src=\"figs/Leakage.png\" width=\"400\">\n",
    "</center>"
   ]
  },
  {
   "cell_type": "code",
   "execution_count": 15,
   "id": "0760b856-dacf-48db-b787-7a3f78a307b7",
   "metadata": {
    "tags": []
   },
   "outputs": [
    {
     "data": {
      "image/png": "[encoded data removed]"
     },
     "execution_count": 15,
     "metadata": {},
     "output_type": "execute_result"
    }
   ],
   "source": [
    "f = Figure(resolution = (600,300))\n",
    "\n",
    "ax1 = Axis(f[1,1],title = \"Random Leakage\")\n",
    "ax2 = Axis(f[1,2],title = \"Structured Leakage\")\n",
    "\n",
    "heatmap!(ax1, fl(50,26,Dict(:l_ratio => 1.0, :λ => 0.5)), colorrange = (0.0,0.5 / 26))\n",
    "heatmap!(ax2, fl(50,26,Dict(:l_ratio => 100.0, :λ => 0.5)), colorrange = (0.0,5 / 26))\n",
    "\n",
    "f"
   ]
  },
  {
   "cell_type": "code",
   "execution_count": 292,
   "id": "c4f7b118-c4e3-44c4-9038-599848018193",
   "metadata": {},
   "outputs": [
    {
     "data": {
      "text/plain": [
       "mean_no_diag (generic function with 1 method)"
      ]
     },
     "execution_count": 292,
     "metadata": {},
     "output_type": "execute_result"
    }
   ],
   "source": [
    "r = JLD2.load(\"../data/detox_simulations.jld2\")\n",
    "analysis = JLD2.load(\"../data/analysis.jld2\")\n",
    "\n",
    "N_r,N_u,N_λ,N_ρ = size(r[\"J\"])\n",
    "\n",
    "u_vec = 10 .^ range(0, 2, length = N_u)\n",
    "ρ_vec = ρ_vec = [0.0, 0.01, 0.1, 1.0]\n",
    "λ_vec = [0.1, 0.3, 0.7]\n",
    "\n",
    "mean_no_diag(A) = (sum(A) - sum(A[diagind(A)])) / (prod(size(A) .- [0, 1]))"
   ]
  },
  {
   "cell_type": "markdown",
   "id": "75d21a7a-0d4d-4024-9f92-c47eda0aabe9",
   "metadata": {},
   "source": [
    "# Results"
   ]
  },
  {
   "cell_type": "markdown",
   "id": "1df022e6-c227-413f-9864-ea1b14defa42",
   "metadata": {},
   "source": [
    "## Uptake Modularity"
   ]
  },
  {
   "cell_type": "markdown",
   "id": "79097f15-8072-4e52-bf37-c55be66dd83a",
   "metadata": {},
   "source": [
    "### Return Time\n",
    "\n",
    "The longterm response is determined by the structure of the jacobian matrix. Here we see that the degree of consumer specialisation reduces return time. That is specialist dominated systems recover faster from perturbations."
   ]
  },
  {
   "cell_type": "code",
   "execution_count": 311,
   "id": "0ca21b79-b70d-4ac2-afe7-41c72c0d67d8",
   "metadata": {
    "tags": []
   },
   "outputs": [
    {
     "data": {
      "image/png": "[encoded data removed]"
     },
     "execution_count": 311,
     "metadata": {},
     "output_type": "execute_result"
    }
   ],
   "source": [
    "R_inf = map(x -> log2(1/Real(x)), analysis[\"Rinf\"][:,:,:,1,1,1])\n",
    "us_vec = range(0, 2, length = N_u)\n",
    "\n",
    "f = Figure(resolution = (600,200))\n",
    "ax1 = Axis(f[1,1], title = \"Low Specialisation\")\n",
    "ax2 = Axis(f[1,2], title = \"High Specialisation\")\n",
    "\n",
    "for u = 1:N_u\n",
    "   boxplot!(ax1, fill(us_vec[u], N_r), R_inf[:,u,1], width = 0.1, color = \"grey\") \n",
    "   boxplot!(ax2, fill(us_vec[u], N_r), R_inf[:,u,2], width = 0.1, color = \"grey\") \n",
    "end\n",
    "\n",
    "linkaxes!(ax1,ax2)\n",
    "\n",
    "f"
   ]
  },
  {
   "cell_type": "code",
   "execution_count": 312,
   "id": "e5612f1e-0f85-4832-8d04-49fb68b88fd5",
   "metadata": {},
   "outputs": [
    {
     "data": {
      "text/plain": [
       "get_uptake_flux (generic function with 1 method)"
      ]
     },
     "execution_count": 312,
     "metadata": {},
     "output_type": "execute_result"
    }
   ],
   "source": [
    "function get_uptake_flux(mass,p)\n",
    "    mass == nothing && return(0) \n",
    "    C = mass[1:25]\n",
    "    R = mass[26:end]\n",
    "\n",
    "    up_R = zeros(25)\n",
    "    # a = 25\n",
    "    for a = 1:25\n",
    "        for i = 1:25\n",
    "            up_R[a] -= p.u[i,a] * C[i] * R[a]\n",
    "            for b = 1:25\n",
    "                up_R[b] += p.u[i,b] * C[i] * R[b] * p.l[b,a]\n",
    "            end\n",
    "\n",
    "        end\n",
    "    end\n",
    "    return(sum(up_R))\n",
    "end"
   ]
  },
  {
   "cell_type": "code",
   "execution_count": 314,
   "id": "15461b6a-c939-4346-b674-8132669b5e98",
   "metadata": {},
   "outputs": [],
   "source": [
    "get_C(mass) = mass != nothing ? sum(mass[1 : 25]) : 0\n",
    "get_R(mass) = mass != nothing ? sum(mass[26 : end-1]) : 0\n",
    "\n",
    "C_mass = get_C.(r[\"mass\"])\n",
    "R_mass = get_R.(r[\"mass\"]);\n",
    "up_flux = get_uptake_flux.(r[\"mass\"],r[\"p\"])\n",
    "\n",
    "# #relative mass\n",
    "ΔC = similar(C_mass)\n",
    "ΔR = similar(C_mass)\n",
    "ΔU = similar(C_mass)\n",
    "\n",
    "for rep = 1:N_r\n",
    "    ΔC[rep,:,:,:] = C_mass[rep,:,:,:] .- C_mass[rep,:,:,1]\n",
    "    ΔR[rep,:,:,:] = R_mass[rep,:,:,:] .- R_mass[rep,:,:,1]\n",
    "    ΔU[rep,:,:,:] = up_flux[rep,:,:,:] .- up_flux[rep,:,:,1]\n",
    "end"
   ]
  },
  {
   "cell_type": "code",
   "execution_count": 322,
   "id": "235e714f-7ccb-49f5-a396-afd438c1ea8c",
   "metadata": {},
   "outputs": [
    {
     "data": {
      "text/plain": [
       "465.14538632508135"
      ]
     },
     "execution_count": 322,
     "metadata": {},
     "output_type": "execute_result"
    }
   ],
   "source": [
    "C_mass[1,1,1,1]"
   ]
  },
  {
   "cell_type": "markdown",
   "id": "b4fc5047-a106-4654-aa15-e5061f157509",
   "metadata": {},
   "source": [
    "### Change in Biomass"
   ]
  },
  {
   "cell_type": "code",
   "execution_count": 316,
   "id": "52f563f9-3ee7-40ba-912c-5861650d1b4b",
   "metadata": {
    "tags": []
   },
   "outputs": [
    {
     "data": {
      "image/png": "[encoded data removed]"
     },
     "execution_count": 316,
     "metadata": {},
     "output_type": "execute_result"
    }
   ],
   "source": [
    "us_vec = range(0, 2, length = N_u)\n",
    "\n",
    "f = Figure(resolution = (600,200))\n",
    "ax1 = Axis(f[1,1], title = \"Low L Structure\")\n",
    "ax2 = Axis(f[1,2], title = \"High L Structure\")\n",
    "\n",
    "for u = 1:N_u\n",
    "    boxplot!(ax1, fill(us_vec[u], N_r), ΔC[:,u,1,1], width = 0.1, color = \"grey\") \n",
    "    boxplot!(ax2, fill(us_vec[u], N_r), ΔC[:,u,2,1], width = 0.1, color = \"grey\") \n",
    "end\n",
    "\n",
    "linkaxes!(ax1,ax2)\n",
    "\n",
    "f"
   ]
  },
  {
   "cell_type": "markdown",
   "id": "040095e2-ba6d-4d86-b8fd-b6c31a323d2b",
   "metadata": {},
   "source": [
    "### Change in Resources"
   ]
  },
  {
   "cell_type": "code",
   "execution_count": 21,
   "id": "66bf39e9-4fd4-4b4f-a5eb-c8e1b1e00169",
   "metadata": {},
   "outputs": [
    {
     "data": {
      "image/png": "[encoded data removed]"
     },
     "execution_count": 21,
     "metadata": {},
     "output_type": "execute_result"
    }
   ],
   "source": [
    "us_vec = range(0, 2, length = N_u)\n",
    "\n",
    "f = Figure(resolution = (600,200))\n",
    "ax1 = Axis(f[1,1], title = \"Low L Structure\")\n",
    "ax2 = Axis(f[1,2], title = \"High L Structure\")\n",
    "\n",
    "for u = 1:N_u\n",
    "    boxplot!(ax1, fill(us_vec[u], N_r), ΔR[:,u,1,1,1], width = 0.1, color = \"grey\") \n",
    "    boxplot!(ax2, fill(us_vec[u], N_r), ΔR[:,u,2,1,1], width = 0.1, color = \"grey\") \n",
    "end\n",
    "\n",
    "linkaxes!(ax1,ax2)\n",
    "\n",
    "f"
   ]
  },
  {
   "cell_type": "markdown",
   "id": "916a7a75-f677-4398-b083-de4e17a3e625",
   "metadata": {},
   "source": [
    "### Uptake Flux"
   ]
  },
  {
   "cell_type": "code",
   "execution_count": 22,
   "id": "a14b457a-8029-473d-8809-7b9bf2814caf",
   "metadata": {},
   "outputs": [
    {
     "data": {
      "image/png": "[encoded data removed]"
     },
     "execution_count": 22,
     "metadata": {},
     "output_type": "execute_result"
    }
   ],
   "source": [
    "us_vec = range(0, 2, length = N_u)\n",
    "\n",
    "f = Figure(resolution = (600,200))\n",
    "ax1 = Axis(f[1,1], title = \"Low L Structure\")\n",
    "ax2 = Axis(f[1,2], title = \"High L Structure\")\n",
    "\n",
    "for u = 1:N_u\n",
    "    boxplot!(ax1, fill(us_vec[u], N_r), ΔU[:,u,1,1,1], width = 0.1, color = \"grey\") \n",
    "    boxplot!(ax2, fill(us_vec[u], N_r), ΔU[:,u,2,1,1], width = 0.1, color = \"grey\") \n",
    "end\n",
    "\n",
    "linkaxes!(ax1,ax2)\n",
    "\n",
    "f"
   ]
  },
  {
   "cell_type": "code",
   "execution_count": 23,
   "id": "22e47f5b-1d31-4b67-ac27-e55b21b26421",
   "metadata": {},
   "outputs": [
    {
     "data": {
      "image/png": "[encoded data removed]"
     },
     "execution_count": 23,
     "metadata": {},
     "output_type": "execute_result"
    }
   ],
   "source": [
    "us_vec = range(0, 2, length = N_u)\n",
    "\n",
    "f = Figure(resolution = (600,200))\n",
    "ax1 = Axis(f[1,1], title = \"Low L Structure\")\n",
    "ax2 = Axis(f[1,2], title = \"High L Structure\")\n",
    "\n",
    "# for u = 1:N_u\n",
    "    scatter!(ax1, ΔR[:,:,1,1,1][:], ΔC[:,:,1,1,1][:], width = 0.1, color = \"grey\") \n",
    "    scatter!(ax2, ΔR[:,:,2,1,1][:], ΔC[:,:,2,1,1][:], width = 0.1, color = \"grey\") \n",
    "# end\n",
    "\n",
    "linkaxes!(ax1,ax2)\n",
    "\n",
    "f"
   ]
  },
  {
   "cell_type": "markdown",
   "id": "57c310f2-8bae-4146-a818-df7c74c914b1",
   "metadata": {},
   "source": [
    "### Interpretation\n",
    "\n",
    "Overall the system response to stressors seems relatively independent of the modularity/specialisation in the system. Both the pulse and press responses are invariant with respect to the the modularity in the system. "
   ]
  },
  {
   "cell_type": "markdown",
   "id": "3aa2475a-bae8-4d2e-998d-7bda0713a3a9",
   "metadata": {},
   "source": [
    "# approximations"
   ]
  },
  {
   "cell_type": "markdown",
   "id": "066751f4-56c4-4826-9562-f8225d889583",
   "metadata": {},
   "source": [
    "\\begin{align}\n",
    "        R_{tot}^* &\\approx \\frac{\\bar{m} +u_s R_s^*}{\\bar{u} (1 - \\lambda)} \\\\\n",
    "        C_{tot}^* &\\approx \\frac{\\rho_{tot} - \\omega_{tot}}{(1 - \\lambda) \\bar{u} R_{tot}^*} = \\frac{\\rho_{tot} - \\omega_{tot}}{\\bar{m} +u_s R_s^*}\n",
    "\\end{align}\n",
    "\n",
    "Adding stressor will increase resource abundance but reduce consumer biomass\n",
    "\n",
    "\\begin{align}\n",
    "    u_{tot} = (1-\\lambda) \\sum_{i,\\alpha} u_{i \\alpha} C_i R_i \\approx \\bar{u} R_{tot} C_{tot} = \\frac{\\rho_{tot} - \\omega_{tot}}{(1 - \\lambda)}\n",
    "\\end{align}"
   ]
  },
  {
   "cell_type": "code",
   "execution_count": 907,
   "id": "6126d21c-5aca-4920-86be-c7446bb8beda",
   "metadata": {},
   "outputs": [
    {
     "data": {
      "text/plain": [
       "f_Rs (generic function with 1 method)"
      ]
     },
     "execution_count": 907,
     "metadata": {},
     "output_type": "execute_result"
    }
   ],
   "source": [
    "#testing quantities\n",
    "f_Rtot(p,Rs) = mean(p.m + p.u[:,end] * Rs) / (mean(p.u[:,1:24]) * (1 - p.kw.λ))\n",
    "f_Ctot(p,Rs) = (sum(p.ρ) - f_Rtot(p, Rs))/((1 - p.kw.λ)*mean(p.u[:,1:24]) * f_Rtot(p,Rs))\n",
    "f_Rs(p,Ctot) = p.ρ[end] / (p.ω[end] + Ctot) "
   ]
  },
  {
   "cell_type": "code",
   "execution_count": 920,
   "id": "2bc247ef-f691-4fe7-9a0f-8a57884570af",
   "metadata": {},
   "outputs": [],
   "source": [
    "p_ = r[\"p\"][1,20,20,3,end]\n",
    "m_ = r[\"mass\"][1,20,20,3,end];"
   ]
  },
  {
   "cell_type": "code",
   "execution_count": 921,
   "id": "86e8128b-d64e-4869-ade9-ec1cb1cf93ea",
   "metadata": {},
   "outputs": [
    {
     "name": "stdout",
     "output_type": "stream",
     "text": [
      "resources: 82.53566061939888  80.15459944801874\n",
      "Consumers: 516.4662718737012  519.8408117700154\n",
      "Stressor: 0.0019324931002345043  0.0019199724318868547\n"
     ]
    }
   ],
   "source": [
    "println(\"resources: \", sum(m_[26:end-1]),\"  \",f_Rtot(p_,m_[end]))\n",
    "println(\"Consumers: \", sum(m_[1:25]),\"  \",f_Ctot(p_,m_[end]))\n",
    "println(\"Stressor: \",  m_[end],\"  \",Rs(p_,f_Ctot(p_,m_[end])))"
   ]
  }
 ],
 "metadata": {
  "kernelspec": {
   "display_name": "Julia 1.8.3",
   "language": "julia",
   "name": "julia-1.8"
  },
  "language_info": {
   "file_extension": ".jl",
   "mimetype": "application/julia",
   "name": "julia",
   "version": "1.8.3"
  }
 },
 "nbformat": 4,
 "nbformat_minor": 5
}
