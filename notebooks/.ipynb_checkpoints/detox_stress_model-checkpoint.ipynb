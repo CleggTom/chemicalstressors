{
 "cells": [
  {
   "cell_type": "code",
   "execution_count": 1,
   "id": "92074913-7a2e-4215-8188-6f87f11462a4",
   "metadata": {},
   "outputs": [
    {
     "name": "stderr",
     "output_type": "stream",
     "text": [
      "\u001b[32m\u001b[1m  Activating\u001b[22m\u001b[39m project at `~/Projects/Working/ErCite/chemicalstressors`\n"
     ]
    }
   ],
   "source": [
    "using Pkg\n",
    "Pkg.activate(\"..\")\n",
    "\n",
    "using Distributions, LinearAlgebra, MiCRM, EasyFit, Distances, StatsBase, Clustering\n",
    "using OrdinaryDiffEq, DiffEqCallbacks\n",
    "using CairoMakie, Colors, ColorSchemes\n",
    "using JLD2\n",
    "using Optim, ForwardDiff"
   ]
  },
  {
   "cell_type": "code",
   "execution_count": 2,
   "id": "de5b87f9-2f5c-464d-9b8a-4b0e75fe94c4",
   "metadata": {},
   "outputs": [
    {
     "name": "stdout",
     "output_type": "stream",
     "text": [
      "\u001b[32m\u001b[1mStatus\u001b[22m\u001b[39m `~/Projects/Working/ErCite/chemicalstressors/Project.toml`\n",
      "\u001b[32m⌃\u001b[39m\u001b[90m [13f3f980] \u001b[39mCairoMakie v0.10.0\n",
      " \u001b[90m [aaaa29a8] \u001b[39mClustering v0.14.3\n",
      " \u001b[90m [35d6a980] \u001b[39mColorSchemes v3.20.0\n",
      "\u001b[32m⌃\u001b[39m\u001b[90m [5ae59095] \u001b[39mColors v0.12.8\n",
      " \u001b[90m [459566f4] \u001b[39mDiffEqCallbacks v2.24.3\n",
      " \u001b[90m [b4f34e82] \u001b[39mDistances v0.10.7\n",
      " \u001b[90m [31c24e10] \u001b[39mDistributions v0.25.79\n",
      " \u001b[90m [fde71243] \u001b[39mEasyFit v0.5.7\n",
      "\u001b[32m⌃\u001b[39m\u001b[90m [f6369f11] \u001b[39mForwardDiff v0.10.32\n",
      " \u001b[90m [033835bb] \u001b[39mJLD2 v0.4.29\n",
      "\u001b[33m⌅\u001b[39m\u001b[90m [20f20a25] \u001b[39mMakieCore v0.6.0\n",
      " \u001b[90m [a39c0ef7] \u001b[39mMiCRM v0.0.2 `https://github.com/CleggTom/MiCRM.jl.git#main`\n",
      " \u001b[90m [429524aa] \u001b[39mOptim v1.7.4\n",
      "\u001b[32m⌃\u001b[39m\u001b[90m [1dea7af3] \u001b[39mOrdinaryDiffEq v6.35.1\n",
      " \u001b[90m [2913bbd2] \u001b[39mStatsBase v0.33.21\n",
      "\u001b[32m⌃\u001b[39m\u001b[90m [0c5d862f] \u001b[39mSymbolics v4.13.0\n",
      "\u001b[36m\u001b[1mInfo\u001b[22m\u001b[39m Packages marked with \u001b[32m⌃\u001b[39m and \u001b[33m⌅\u001b[39m have new versions available, but those with \u001b[33m⌅\u001b[39m cannot be upgraded. To see why use `status --outdated`\n"
     ]
    }
   ],
   "source": [
    "Pkg.status()"
   ]
  },
  {
   "cell_type": "markdown",
   "id": "7dbfc8b5-8252-43d5-9d39-86f557588ccb",
   "metadata": {},
   "source": [
    "# Introduction\n",
    "\n",
    "In this notebook I do some exploratory analysis of a model in which stressors are linked to consumer dynamics by uptake. This uptake has negative consequences for consumers and removes the resources from the environment. \n",
    "\n",
    "The basic model is as follows:\n",
    "\\begin{align}\n",
    "    \\frac{dC}{dt} &= C_i \\left(\\sum_{\\alpha} R_{\\alpha} u_{i \\alpha} \\gamma_{\\alpha}(1 - \\lambda) - m_i\\right)\\\\\n",
    "    \\frac{dR}{dt} &= \\rho_\\alpha - R_{\\alpha} \\omega_\\alpha - \\sum_{i} C_i  R_{\\alpha} u_{i \\alpha} + \\sum_{\\beta} R_{\\beta} \\sum_{i} C_i u_{i \\beta} l_{\\beta \\alpha}\n",
    "\\end{align}"
   ]
  },
  {
   "cell_type": "markdown",
   "id": "f58022ba-4b6d-42dd-876d-d29c7f9dab68",
   "metadata": {},
   "source": [
    "Or in a diagram:\n",
    "\n",
    "<center>\n",
    "<img src=\"figs/StressorDiagram.png\" width=\"400\">\n",
    "</center>\n",
    "\n",
    "Consumers uptake and leak resources as normal. The stressor acts as a resource but has a negative effect on growth of consumer populations. "
   ]
  },
  {
   "cell_type": "markdown",
   "id": "efb68358-3bf7-4754-8c46-e6da7dff83f4",
   "metadata": {},
   "source": [
    "## Code"
   ]
  },
  {
   "cell_type": "code",
   "execution_count": 3,
   "id": "4d28bc27-0d34-477c-b214-55c2e91a76d1",
   "metadata": {
    "tags": []
   },
   "outputs": [
    {
     "data": {
      "text/plain": [
       "f_ω (generic function with 1 method)"
      ]
     },
     "execution_count": 3,
     "metadata": {},
     "output_type": "execute_result"
    }
   ],
   "source": [
    "#solve system with stressor\n",
    "#derivatives\n",
    "function growth_MiCRM_detox!(dx,x,p,t,i)\n",
    "    #mortality\n",
    "    dx[i] += -p.m[i] * x[i]\n",
    "    #resource uptake\n",
    "    for α = 1:p.M\n",
    "        tmp = 0.0\n",
    "        for β = 1:p.M\n",
    "            tmp += p.l[α,β]\n",
    "        end\n",
    "        dx[i] += x[α + p.N] * x[i] * p.u[i,α] * (1 - tmp) * p.kw.γ[i,α]\n",
    "    end\n",
    "end\n",
    "\n",
    "#derivative function\n",
    "dx!(dx,x,p,t) = MiCRM.Simulations.dx!(dx,x,p,t; growth! = growth_MiCRM_detox!)\n",
    "\n",
    "\n",
    "#params\n",
    "function fu(N,M,kw)\n",
    "    u = zeros(N,M)\n",
    "    u[:, 1 : (M-1)] .= MiCRM.Parameters.modular_uptake(N,M - 1, N_modules = 5, s_ratio = kw[:u_ratio]) * kw[:u_tot]\n",
    "    u[:, end] .= ones(N)\n",
    "    return(u)\n",
    "end\n",
    "\n",
    "function fl(N,M,kw)\n",
    "    l = MiCRM.Parameters.modular_leakage(M; N_modules = 5, s_ratio = kw[:l_ratio], λ = kw[:λ])\n",
    "    #dont leak to or from stressor\n",
    "    l[:,end] .= 0.0\n",
    "    l[end,:] .= 0.0\n",
    "    [l[i,:] .=  kw[:λ] * l[i,:] ./ sum(l[i,:]) for i = 1:(M-1)]\n",
    "    return(l)\n",
    "end\n",
    "\n",
    "#Dirchlet U matricies\n",
    "function dirchlet_uptake(N,M,kw)\n",
    "    u = zeros(N,M)\n",
    "    u[:,1 : end-1] .= Array(rand(Dirichlet(M-1, kw[:au]), N)')\n",
    "    u[:,end] .= rand(Dirichlet(N, 1.0), 1)\n",
    "    return(u)\n",
    "end\n",
    "\n",
    "#Dirchlet L matricies\n",
    "function dirchlet_leakage(N,M,kw)\n",
    "    l = zeros(M,M)\n",
    "    for α = 1:M-2\n",
    "        l[α, α+1 : end-1] .= rand(Dirichlet(M - 1 - α, kw[:al]), 1)\n",
    "    end\n",
    "    # l[1 : end-1, 1 : end-1] .= Array(rand(Dirichlet(M-1, kw[:al]), M-1)')\n",
    "    return(l * kw[:λ])\n",
    "end\n",
    "\n",
    "function fρ(N,M,kw)\n",
    "    ρ = zeros(M) \n",
    "    ρ[1] = M * M\n",
    "    ρ[end] = 0.0\n",
    "    return(ρ)\n",
    "end\n",
    "\n",
    "f_ω(N,M,kw) = fill(1.0, M)"
   ]
  },
  {
   "cell_type": "code",
   "execution_count": 4,
   "id": "588e3e82-53d9-41eb-9b50-4b658876cc22",
   "metadata": {
    "tags": []
   },
   "outputs": [
    {
     "name": "stdout",
     "output_type": "stream",
     "text": [
      "  5.775229 seconds (11.41 M allocations: 770.087 MiB, 1.80% gc time, 96.43% compilation time)\n",
      "  2.999079 seconds (6.85 M allocations: 464.743 MiB, 2.90% gc time, 93.90% compilation time)\n"
     ]
    }
   ],
   "source": [
    "N,M = 25,25\n",
    "\n",
    "#gamma\n",
    "γ = ones(N,M)\n",
    "γ[:,end] .= -1.0\n",
    "\n",
    "#generate test parameters\n",
    "p = MiCRM.Parameters.generate_params(N, M, f_u = dirchlet_uptake, f_l = dirchlet_leakage, f_ρ = fρ, λ = 0.7, γ = γ, au = 0.2, al = 1.0)\n",
    "\n",
    "#simualtion params\n",
    "x0 = ones(N+M)\n",
    "x0[end] = 0.0\n",
    "t = (0.0,1e5)\n",
    "\n",
    "prob = ODEProblem(dx!, x0, t, p)\n",
    "\n",
    "@time sol1 = solve(prob, AutoTsit5(Rosenbrock23()));\n",
    "@time sol2 = solve(prob, AutoTsit5(Rosenbrock23()), callback = TerminateSteadyState(1e-8,1e-6));"
   ]
  },
  {
   "cell_type": "code",
   "execution_count": 5,
   "id": "528ad8a1-5769-4a19-8e9c-e31252b3db6e",
   "metadata": {},
   "outputs": [
    {
     "data": {
      "image/png": "[encoded data removed]"
     },
     "execution_count": 5,
     "metadata": {},
     "output_type": "execute_result"
    }
   ],
   "source": [
    "plot_sol(sol,ax) = Makie.series!(ax, sol.t, sol[:,:], solid_color = \"black\")\n",
    "\n",
    "f = Figure(resolution = (600,300))\n",
    "ax = Axis(f[1,1])\n",
    "plot_sol(sol2,ax)\n",
    "f"
   ]
  },
  {
   "cell_type": "markdown",
   "id": "b423ae51-8b92-4fe0-b538-84c59ec99cc5",
   "metadata": {},
   "source": [
    "# Simulation details"
   ]
  },
  {
   "cell_type": "markdown",
   "id": "9b6d12b8-473f-494d-b862-81d13466e998",
   "metadata": {},
   "source": [
    "## Measuring responses\n",
    "\n",
    "we consider three aspects of the stress response over different timescales. \n",
    "\n",
    "1. Degree of amplification of a pulse of chemical stressor\n",
    "2. The rate of return after a pulse of chemical stressor\n",
    "3. The change in equilbirium state following chronic exposure to the stressor. \n",
    "\n",
    "<img src=\"figs/pulse.png\" width=\"400\">\n"
   ]
  },
  {
   "cell_type": "markdown",
   "id": "bfed4f71-156d-44a6-a107-4a77101e1144",
   "metadata": {},
   "source": [
    "## Interactions\n",
    "\n",
    "We consider how these responses are modified by the community context and how interactions between consumer populations affect the response. \n",
    "\n",
    "* cooperation increases robustness? (Oña 2022)\n",
    "\n",
    "* competition increases sensitvtiy (Violle et al. 2010)\n"
   ]
  },
  {
   "cell_type": "markdown",
   "id": "41dc7b34-9052-471a-b856-f5e16f72e379",
   "metadata": {},
   "source": [
    "### partitioning leakage and competition\n",
    "\n",
    "To partition the contributions of leakage and competition for resources we first consider the dyanmic equations, extracting the total effects of uptake and leakage on the $\\alpha^{\\text{th}}$ resource:\n",
    "\n",
    "\\begin{align}\n",
    "    L_{\\alpha} &= \\sum_{i \\beta} C_i R_{\\beta} u_{i \\beta} l_{\\beta \\alpha}, \\\\\n",
    "    U_{\\alpha} &= \\sum_{i} C_i R_{\\alpha} u_{i \\alpha}.\n",
    "\\end{align}\n",
    "\n",
    "We then consdier how these fluxes are affected by consumer species with the quantites:\n",
    "\n",
    "\\begin{align}\n",
    "    \\frac{d L_{\\alpha}}{d C_i} &= \\sum_{\\beta} R_{\\beta} u_{i \\beta} l_{\\beta \\alpha}, \\\\\n",
    "    \\frac{d U_{\\alpha}}{d C_i} &= R_{\\alpha} u_{i \\alpha},\n",
    "\\end{align}\n",
    "\n",
    "and weight their effects on consumers by considering the effect of resources from consumer growth\n",
    "\n",
    "\\begin{align}\n",
    "    \\frac{d g_i}{d R_{\\alpha}} = u_{i \\alpha} \\gamma_{i \\alpha} (1 - \\lambda)\n",
    "\\end{align}\n",
    "\n",
    "thus the effect of consumer $j$ on $i$ due to leakage and uptake respectively are:\n",
    "\\begin{align}\n",
    "    a^{L}_{i j} &= \\sum_{\\alpha} \\frac{d g_i}{d R_{\\alpha}} \\frac{d L_{\\alpha}}{d C_j} = \\sum_{\\alpha} \\big[u_{i \\alpha} \\gamma_{i \\alpha} (1 - \\lambda) \\big] \\big[\\sum_{\\beta} R_{\\beta} u_{j \\beta} l_{\\beta \\alpha} \\big] \\\\\n",
    "    a^{U}_{i j} &= \\sum_{\\alpha} \\frac{d g_i}{d R_{\\alpha}} \\frac{d U_{\\alpha}}{d C_j} = \\sum_{\\alpha} \\big[u_{i \\alpha} \\gamma_{i \\alpha} (1 - \\lambda) \\big] \\big[R_{\\alpha} u_{j \\alpha} \\big]\n",
    "\\end{align}"
   ]
  },
  {
   "cell_type": "code",
   "execution_count": 6,
   "id": "f3da4048-337a-4c1a-9bad-2bb44976349a",
   "metadata": {},
   "outputs": [
    {
     "data": {
      "text/plain": [
       "get_L_mat (generic function with 1 method)"
      ]
     },
     "execution_count": 6,
     "metadata": {},
     "output_type": "execute_result"
    }
   ],
   "source": [
    "dgdR(p, R, i, a) = p.u[i,a] * p.kw.γ[i,a] * (1 - p.kw.λ)\n",
    "\n",
    "function dLdC(p, R, j, a)\n",
    "    v = 0.0\n",
    "    for b = 1:p.M\n",
    "        v += p.l[b,a] * R[b] * p.u[j,b]\n",
    "    end\n",
    "    return v\n",
    "end\n",
    "\n",
    "dUdC(p, R, j, a) = R[a] * p.u[j,a]\n",
    "\n",
    "function a_L(p,R,i,j)\n",
    "    v = 0.0\n",
    "    for a = 1:p.M\n",
    "        v += dgdR(p,R,i,a) * dLdC(p,R,j,a)\n",
    "    end\n",
    "    return(v)\n",
    "end\n",
    "\n",
    "function a_U(p,R,i,j)\n",
    "    v = 0.0\n",
    "    for a = 1:p.M\n",
    "        v += dgdR(p,R,i,a) * dUdC(p,R,j,a)\n",
    "    end\n",
    "    return(v)\n",
    "end\n",
    "\n",
    "get_U_mat(p,R) = [a_U(p,R,i,j) for i = 1:p.N , j = 1:p.N]\n",
    "get_L_mat(p,R) = [a_L(p,R,i,j) for i = 1:p.N , j = 1:p.N]"
   ]
  },
  {
   "cell_type": "code",
   "execution_count": 16,
   "id": "2e6047a5-cacd-4478-990c-08254d7b6da3",
   "metadata": {},
   "outputs": [],
   "source": [
    "# get_U_mat(p,R)\n",
    "# get_L_mat(p,R)\n",
    "\n",
    "# @time a_U_mat = get_U_mat(p,R)\n",
    "# @time a_L_mat = get_L_mat(p,R);"
   ]
  },
  {
   "cell_type": "code",
   "execution_count": 8,
   "id": "5a55d534-c81c-47a4-81f5-8e70ec8ad859",
   "metadata": {
    "jupyter": {
     "source_hidden": true
    },
    "tags": []
   },
   "outputs": [
    {
     "data": {
      "text/plain": [
       "dendrogram (generic function with 1 method)"
      ]
     },
     "execution_count": 8,
     "metadata": {},
     "output_type": "execute_result"
    }
   ],
   "source": [
    "function treepositions(hc::Hclust; useheight = true, orientation = :vertical)\n",
    "    order = StatsBase.indexmap(hc.order)\n",
    "    nodepos = Dict(-i => (float(order[i]), 0.0) for i in hc.order)\n",
    "    xs = []\n",
    "    ys = []\n",
    "    for i in 1:size(hc.merges, 1)\n",
    "        x1, y1 = nodepos[hc.merges[i, 1]]\n",
    "        x2, y2 = nodepos[hc.merges[i, 2]]\n",
    "        xpos = (x1 + x2) / 2\n",
    "        ypos = useheight ?  hc.heights[i] : (max(y1, y2) + 1)\n",
    "        nodepos[i] = (xpos, ypos)\n",
    "        push!(xs, [x1, x1, x2, x2])\n",
    "        push!(ys, [y1, ypos, ypos, y2])\n",
    "    end\n",
    "    if orientation == :horizontal\n",
    "        return ys, xs\n",
    "    else\n",
    "        return xs, ys\n",
    "    end\n",
    "end\n",
    "function dendrogram(h; color = :blue, kwargs...)\n",
    "    CairoMakie.Axis(Figure()[1, 1])\n",
    "    for (x, y) in zip(treepositions(h; kwargs...)...)\n",
    "        lines!(x, y; color)\n",
    "    end\n",
    "    current_figure()\n",
    "end"
   ]
  },
  {
   "cell_type": "code",
   "execution_count": 17,
   "id": "d0fd2da7-a1a9-4cc5-9c53-b86cf5b9e7a2",
   "metadata": {},
   "outputs": [
    {
     "name": "stdout",
     "output_type": "stream",
     "text": [
      "  0.000036 seconds (1 allocation: 5.062 KiB)\n",
      "  0.000342 seconds (1 allocation: 5.062 KiB)\n"
     ]
    },
    {
     "data": {
      "image/png": "[encoded data removed]"
     },
     "execution_count": 17,
     "metadata": {},
     "output_type": "execute_result"
    }
   ],
   "source": [
    "R = sol1[end][p.N+1 : end]\n",
    "\n",
    "get_U_mat(p,R)\n",
    "get_L_mat(p,R)\n",
    "\n",
    "@time a_U_mat = get_U_mat(p,R)\n",
    "@time a_L_mat = get_L_mat(p,R)\n",
    "\n",
    "c = Clustering.hclust(Symmetric(a_U_mat))\n",
    "\n",
    "f = Figure(resolution = (500,250))\n",
    "\n",
    "ax1 = Axis(f[1,1])\n",
    "ax2 = Axis(f[1,2])\n",
    "\n",
    "heatmap!(ax1, a_L_mat[c.order,c.order])\n",
    "heatmap!(ax2, a_U_mat[c.order,c.order])\n",
    "\n",
    "f"
   ]
  },
  {
   "cell_type": "markdown",
   "id": "e4439891-1f8e-4309-8297-78207c0561b6",
   "metadata": {
    "tags": []
   },
   "source": [
    "## Resource Specialisation $s$\n",
    "the degree to which consumers tend to specialise on their own resources\n",
    "\n",
    "<center>\n",
    "<img src=\"figs/Uptake_spec.png\" width=\"400\">\n",
    "</center>"
   ]
  },
  {
   "cell_type": "code",
   "execution_count": 18,
   "id": "e0ae5583-e568-441a-96c1-a9d17bac5c06",
   "metadata": {
    "tags": []
   },
   "outputs": [
    {
     "data": {
      "image/png": "[encoded data removed]"
     },
     "execution_count": 18,
     "metadata": {},
     "output_type": "execute_result"
    }
   ],
   "source": [
    "f = Figure(resolution = (600,300))\n",
    "\n",
    "ax1 = Axis(f[1,1],title = \"Low Specialisation\")\n",
    "ax2 = Axis(f[1,2],title = \"High Specialisation\")\n",
    "\n",
    "heatmap!(ax1, dirchlet_uptake(50,26,Dict(:au => 1.0)), colorrange = (0.0,1.0))\n",
    "heatmap!(ax2, dirchlet_uptake(50,26,Dict(:au => 0.01)), colorrange = (0.0,1.0))\n",
    "\n",
    "f"
   ]
  },
  {
   "cell_type": "markdown",
   "id": "ee2cf1df-7468-4316-abfb-1d0568c375ed",
   "metadata": {
    "tags": []
   },
   "source": [
    "## Leakage $\\lambda$\n",
    "The amount of resources leaked as metabolic by-products\n",
    "\n",
    "<center>\n",
    "<img src=\"figs/Leakage.png\" width=\"400\">\n",
    "</center>"
   ]
  },
  {
   "cell_type": "code",
   "execution_count": 19,
   "id": "0760b856-dacf-48db-b787-7a3f78a307b7",
   "metadata": {
    "tags": []
   },
   "outputs": [
    {
     "data": {
      "image/png": "[encoded data removed]"
     },
     "execution_count": 19,
     "metadata": {},
     "output_type": "execute_result"
    }
   ],
   "source": [
    "f = Figure(resolution = (600,300))\n",
    "\n",
    "ax1 = Axis(f[1,1],title = \"Random Leakage\")\n",
    "ax2 = Axis(f[1,2],title = \"Structured Leakage\")\n",
    "\n",
    "heatmap!(ax1, dirchlet_leakage(50,26,Dict(:al => 1.0, :λ => 1.0)), colorrange = (0.0,1.0))\n",
    "heatmap!(ax2, dirchlet_leakage(50,26,Dict(:al => 0.01, :λ => 1.0)), colorrange = (0.0,1.0))\n",
    "\n",
    "f"
   ]
  },
  {
   "cell_type": "code",
   "execution_count": 151,
   "id": "c4f7b118-c4e3-44c4-9038-599848018193",
   "metadata": {},
   "outputs": [
    {
     "data": {
      "text/plain": [
       "mean_no_diag (generic function with 1 method)"
      ]
     },
     "execution_count": 151,
     "metadata": {},
     "output_type": "execute_result"
    }
   ],
   "source": [
    "r = JLD2.load(\"../data/detox_simulations.jld2\")\n",
    "# analysis = JLD2.load(\"../data/analysis.jld2\")\n",
    "\n",
    "N_r,N_u,N_λ,N_ρ = size(r[\"J\"])\n",
    "\n",
    "u_vec = -(range(-2, 0, length = N_u))\n",
    "ρ_vec = [0.0, 0.1, 1.0, 25, 150]\n",
    "λ_vec = [0.1, 0.3, 0.7]\n",
    "\n",
    "mean_no_diag(A) = (sum(A) - sum(A[diagind(A)])) / (prod(size(A) .- [0, 1]))"
   ]
  },
  {
   "cell_type": "code",
   "execution_count": 278,
   "id": "69f6c275-ce55-4fbe-873d-998429952c69",
   "metadata": {},
   "outputs": [
    {
     "data": {
      "text/plain": [
       "leakage_flux (generic function with 1 method)"
      ]
     },
     "execution_count": 278,
     "metadata": {},
     "output_type": "execute_result"
    }
   ],
   "source": [
    "#get summaries\n",
    "get_C(x) = sum(x[1:25])\n",
    "get_R(x) = sum(x[26:end-1])\n",
    "\n",
    "#functional measures\n",
    "function uptake_flux(x,p)\n",
    "    up = 0.0\n",
    "    \n",
    "    for i = 1:p.N\n",
    "        #resource uptake\n",
    "        for α = 1:p.M - 1 \n",
    "            up += x[α + p.N] * x[i] * p.u[i,α]\n",
    "        end\n",
    "    end\n",
    "    return(up)\n",
    "end\n",
    "\n",
    "function leakage_flux(x,p)\n",
    "    x[end]\n",
    "end\n",
    "    "
   ]
  },
  {
   "cell_type": "code",
   "execution_count": 285,
   "id": "19f4f540-9edb-46f9-9063-bc778f9de2f1",
   "metadata": {},
   "outputs": [
    {
     "data": {
      "text/plain": [
       "3-element view(::Vector{Float64}, [28154, 28279, 28592]) with eltype Float64:\n",
       " 0.0\n",
       " 0.0\n",
       " 0.0"
      ]
     },
     "execution_count": 285,
     "metadata": {},
     "output_type": "execute_result"
    }
   ],
   "source": [
    "C_mass = get_C.(r[\"mass\"])\n",
    "R_mass = get_R.(r[\"mass\"]);\n",
    "up_flux = uptake_flux.(r[\"mass\"],r[\"p\"])\n",
    "le_flux = leakage_flux.(r[\"mass\"],r[\"p\"])\n",
    "\n",
    "\n",
    "\n",
    "# #relative mass\n",
    "ΔC = similar(C_mass)\n",
    "ΔR = similar(C_mass)\n",
    "ΔU = similar(C_mass)\n",
    "ΔL = similar(C_mass)\n",
    "\n",
    "\n",
    "for rep = 1:size(C_mass)[1]\n",
    "    ΔC[rep,:,:,:] = 100((C_mass[rep,:,:,:] .- C_mass[rep,:,:,1]) ./ C_mass[rep,:,:,1])\n",
    "    ΔR[rep,:,:,:] = 100((R_mass[rep,:,:,:] .- R_mass[rep,:,:,1]) ./ R_mass[rep,:,:,1])\n",
    "    ΔU[rep,:,:,:] = 100((up_flux[rep,:,:,:] .- up_flux[rep,:,:,1]) ./ up_flux[rep,:,:,1])\n",
    "    ΔL[rep,:,:,:] = le_flux[rep,:,:,:]\n",
    "end\n",
    "\n",
    "\n",
    "ΔC[isnan.(ΔC)] .= 0.0\n",
    "ΔR[isnan.(ΔR)] .= 0.0"
   ]
  },
  {
   "cell_type": "markdown",
   "id": "75d21a7a-0d4d-4024-9f92-c47eda0aabe9",
   "metadata": {},
   "source": [
    "# Results"
   ]
  },
  {
   "cell_type": "code",
   "execution_count": 271,
   "id": "0ca21b79-b70d-4ac2-afe7-41c72c0d67d8",
   "metadata": {
    "jupyter": {
     "source_hidden": true
    },
    "tags": []
   },
   "outputs": [
    {
     "ename": "LoadError",
     "evalue": "UndefVarError: analysis not defined",
     "output_type": "error",
     "traceback": [
      "UndefVarError: analysis not defined",
      "",
      "Stacktrace:",
      " [1] top-level scope",
      "   @ In[271]:2",
      " [2] eval",
      "   @ ./boot.jl:368 [inlined]",
      " [3] include_string(mapexpr::typeof(REPL.softscope), mod::Module, code::String, filename::String)",
      "   @ Base ./loading.jl:1428"
     ]
    }
   ],
   "source": [
    "#get return rates\n",
    "return_rates = map(x -> isa(x, Complex) ? -1 / (x.re) : -1/x, analysis[\"Rinf\"])\n",
    "indx = findall(return_rates .< 0)\n",
    "return_rates[indx] .= 0.0\n",
    "return_rates = log.(return_rates)\n",
    "\n",
    "f = Figure(resolution = (800,300))\n",
    "ax = [Axis(f[1,i], ) for i = 1:3]\n",
    "[ax[i].title = string([\"Low\",\"Mid\",\"High\"][i],\" Leakage\") for i = 1:3]\n",
    "ax[1].ylabel = \"log(Return Time)\"\n",
    "\n",
    "for u = 1:N_u\n",
    "    for l = 1:N_λ\n",
    "        #means\n",
    "        scatter!(ax[l], u_vec[u], mean(return_rates[:,u,l,1]), color = \"black\")\n",
    "\n",
    "        #error\n",
    "        lb = mean(return_rates[:,u,l,1]) - quantile(return_rates[:,u,l,1],0.25)\n",
    "        ub = quantile(return_rates[:,u,l,1],0.75) - mean(return_rates[:,u,l,1])\n",
    "\n",
    "        errorbars!(ax[l], u_vec[u], mean(return_rates[:,u,l,1]),[lb],[ub],color = \"red\")\n",
    "        \n",
    "        \n",
    "        # boxplot!(ax[l], fill(u_vec[u],N_r), return_rates[:,u,l,1], color = \"grey\", width = 0.1)\n",
    "    end\n",
    "end\n",
    "\n",
    "linkaxes!(ax...)\n",
    "xlabel = Label(f[2, 1:3], \"Uptake Specialisation\", rotation = 0)\n",
    "\n",
    "f"
   ]
  },
  {
   "cell_type": "code",
   "execution_count": 272,
   "id": "e5612f1e-0f85-4832-8d04-49fb68b88fd5",
   "metadata": {
    "tags": []
   },
   "outputs": [
    {
     "data": {
      "text/plain": [
       "get_uptake_flux (generic function with 1 method)"
      ]
     },
     "execution_count": 272,
     "metadata": {},
     "output_type": "execute_result"
    }
   ],
   "source": [
    "function get_uptake_flux(mass,p)\n",
    "    mass == nothing && return(0) \n",
    "    C = mass[1:25]\n",
    "    R = mass[26:end]\n",
    "\n",
    "    up_R = zeros(25)\n",
    "    # a = 25\n",
    "    for a = 1:p.N\n",
    "        for i = 1:p.M-1\n",
    "            up_R[a] -= p.u[i,a] * C[i] * R[a]\n",
    "            for b = 1:p.M-1\n",
    "                up_R[b] += p.u[i,b] * C[i] * R[b] * p.l[b,a]\n",
    "            end\n",
    "\n",
    "        end\n",
    "    end\n",
    "    return(sum(up_R))\n",
    "end"
   ]
  },
  {
   "cell_type": "code",
   "execution_count": null,
   "id": "0643bc4f-98c1-4184-8f19-10b6691779ef",
   "metadata": {},
   "outputs": [],
   "source": []
  },
  {
   "cell_type": "code",
   "execution_count": 273,
   "id": "15461b6a-c939-4346-b674-8132669b5e98",
   "metadata": {
    "tags": []
   },
   "outputs": [],
   "source": [
    "get_C(mass) = sum(mass[1 : 25])\n",
    "get_R(mass) = sum(mass[26 : end-1])\n",
    "\n",
    "C_mass = get_C.(r[\"mass\"])\n",
    "R_mass = get_R.(r[\"mass\"]);\n",
    "up_flux = get_uptake_flux.(r[\"mass\"],r[\"p\"])\n",
    "\n",
    "#unstable solutions\n",
    "\n",
    "\n",
    "# #relative mass\n",
    "ΔC = similar(C_mass)\n",
    "ΔR = similar(C_mass)\n",
    "ΔU = similar(C_mass)\n",
    "\n",
    "\n",
    "for rep = 1:N_r\n",
    "    ΔC[rep,:,:,:] = 100((C_mass[rep,:,:,:] .- C_mass[rep,:,:,1]) ./ C_mass[rep,:,:,1])\n",
    "    ΔR[rep,:,:,:] = 100((R_mass[rep,:,:,:] .- R_mass[rep,:,:,1]) ./ R_mass[rep,:,:,1])\n",
    "    ΔU[rep,:,:,:] = 100((up_flux[rep,:,:,:] .- up_flux[rep,:,:,1]) ./ up_flux[rep,:,:,1])\n",
    "    \n",
    "    # ΔC[rep,:,:,:] = (C_mass[rep,:,:,:] .- C_mass[rep,:,:,1])\n",
    "    # ΔR[rep,:,:,:] = (R_mass[rep,:,:,:] .- R_mass[rep,:,:,1])\n",
    "    # ΔU[rep,:,:,:] = (up_flux[rep,:,:,:] .- up_flux[rep,:,:,1])\n",
    "end\n",
    "\n",
    "ΔC[isnan.(ΔC)] .= 0.0\n",
    "ΔR[isnan.(ΔR)] .= 0.0\n",
    "ΔU[isnan.(ΔU)] .= 0.0;"
   ]
  },
  {
   "cell_type": "code",
   "execution_count": null,
   "id": "1a59edaa-4646-464e-8409-f194c1c281d8",
   "metadata": {},
   "outputs": [],
   "source": []
  },
  {
   "cell_type": "code",
   "execution_count": null,
   "id": "21bf9c70-7643-4b9d-9c1b-b3425d95a1f1",
   "metadata": {},
   "outputs": [],
   "source": []
  },
  {
   "cell_type": "markdown",
   "id": "b4fc5047-a106-4654-aa15-e5061f157509",
   "metadata": {},
   "source": [
    "### Change in Biomass"
   ]
  },
  {
   "cell_type": "code",
   "execution_count": 280,
   "id": "52f563f9-3ee7-40ba-912c-5861650d1b4b",
   "metadata": {
    "tags": []
   },
   "outputs": [
    {
     "data": {
      "image/png": "[encoded data removed]"
     },
     "execution_count": 283,
     "metadata": {},
     "output_type": "execute_result"
    }
   ],
   "source": [
    "f = Figure(resolution = (700,300))\n",
    "\n",
    "ax_C = Axis(f[1,1], ylabel = \"% Change in C\")\n",
    "ax_R = Axis(f[1,2], ylabel = \"% Change in R\")\n",
    "\n",
    "Label(f[2,1:2], \"Uptake Specialisation\")\n",
    "\n",
    "Label(f[1,1,TopLeft()],[\"A\"])\n",
    "Label(f[1,2,TopLeft()],[\"B\"])\n",
    "\n",
    "\n",
    "label = string.(λ_vec)\n",
    "c = ColorSchemes.tol_bright[1:3]\n",
    "\n",
    "function bounds(x)\n",
    "    #error\n",
    "    lb = (mean(x) - quantile(x,0.05))\n",
    "    ub = (quantile(x,0.95) - mean(x))\n",
    "\n",
    "    return(lb,ub)\n",
    "end\n",
    "\n",
    "ρ = 4\n",
    "\n",
    "for u = 1:N_u\n",
    "    for l = 1:N_λ\n",
    "        ΔC_plt = ΔC[:,u,l,ρ]\n",
    "        ΔR_plt = ΔR[:,u,l,ρ]\n",
    "        \n",
    "        #mean\n",
    "        scatter!(ax_C, u_vec[u], mean(ΔC_plt), color = c[l], label = label[l])\n",
    "        scatter!(ax_R, u_vec[u], mean(ΔR_plt), color = c[l], label = label[l])\n",
    "\n",
    "        lb,ub = bounds(ΔC_plt)\n",
    "        errorbars!(ax_C, u_vec[u], mean(ΔC_plt),[lb],[ub],color = c[l])\n",
    "        \n",
    "        lb,ub = bounds(ΔR_plt)\n",
    "        errorbars!(ax_R, u_vec[u], mean(ΔR_plt),[lb],[ub],color = c[l])        \n",
    "    end\n",
    "end\n",
    "\n",
    "axislegend(ax_C, ax_C, \"λ\", unique = true, position = :lb)\n",
    "\n",
    "save(\"../figures/consumer_resource.pdf\",f)\n",
    "\n",
    "f"
   ]
  },
  {
   "cell_type": "code",
   "execution_count": 281,
   "id": "93970dff-3729-4298-a545-6a0799b8e328",
   "metadata": {},
   "outputs": [
    {
     "data": {
      "image/png": "[encoded data removed]"
     },
     "execution_count": 284,
     "metadata": {},
     "output_type": "execute_result"
    }
   ],
   "source": [
    "f = Figure(resolution = (700,300))\n",
    "\n",
    "ax_U = Axis(f[1,1], ylabel = \"% Change in uptake\")\n",
    "ax_L = Axis(f[1,2], ylabel = \"Stressor Concentration\")\n",
    "\n",
    "Label(f[2,1:2], \"Uptake Specialisation\")\n",
    "\n",
    "Label(f[1,1,TopLeft()],[\"A\"])\n",
    "Label(f[1,2,TopLeft()],[\"B\"])\n",
    "\n",
    "label = string.(λ_vec)\n",
    "c = ColorSchemes.tol_bright[1:3]\n",
    "\n",
    "ρ = 4\n",
    "\n",
    "for u = 1:N_u\n",
    "    for l = 1:N_λ\n",
    "        ΔU_plt = ΔU[:,u,l,ρ]\n",
    "        ΔL_plt = ΔL[:,u,l,ρ]\n",
    "        \n",
    "        #mean\n",
    "        scatter!(ax_U, u_vec[u], mean(ΔU_plt), color = c[l], label = label[l])\n",
    "        scatter!(ax_L, u_vec[u], mean(ΔL_plt), color = c[l], label = label[l])\n",
    "\n",
    "        lb,ub = bounds(ΔU_plt)\n",
    "        errorbars!(ax_U, u_vec[u], mean(ΔU_plt),[lb],[ub],color = c[l])\n",
    "        \n",
    "        lb,ub = bounds(ΔL_plt)\n",
    "        errorbars!(ax_L, u_vec[u], mean(ΔL_plt),[lb],[ub],color = c[l])        \n",
    "    end\n",
    "end\n",
    "\n",
    "# CairoMakie.current_axis!(ax_U)\n",
    "axislegend(ax_U, ax_U, \"λ\", unique = true, position = :lb)\n",
    "\n",
    "save(\"../figures/Functioning.pdf\",f)\n",
    "\n",
    "\n",
    "f"
   ]
  },
  {
   "cell_type": "code",
   "execution_count": 242,
   "id": "c816166b-46cf-4af9-bcf8-537ced300bfd",
   "metadata": {},
   "outputs": [],
   "source": [
    "#Mechanisms"
   ]
  },
  {
   "cell_type": "markdown",
   "id": "11fbf0f8-22d6-4965-b8dd-a5ad61173b17",
   "metadata": {},
   "source": [
    "## redundancy\n",
    "\n",
    "Are the specialised communtiies more sensitive because they have less redundancy?\n",
    "\n",
    "stressors affect consumers, can the others take up their resources?\n",
    "\n",
    "Are unexploited resources the cause for the de"
   ]
  },
  {
   "cell_type": "code",
   "execution_count": null,
   "id": "02f738bf-4d66-4498-aff8-c2b87ac856a6",
   "metadata": {},
   "outputs": [],
   "source": []
  },
  {
   "cell_type": "code",
   "execution_count": 108,
   "id": "73ef0f00-63ef-4354-bfd0-57f4b2265832",
   "metadata": {},
   "outputs": [
    {
     "data": {
      "text/plain": [
       "1.0376199603029368"
      ]
     },
     "execution_count": 108,
     "metadata": {},
     "output_type": "execute_result"
    }
   ],
   "source": [
    "uptake_flux(r[\"mass\"][1,1,1,1],r[\"p\"][1,1,1,1]) / uptake_flux(r[\"mass\"][1,1,1,5],r[\"p\"][1,1,1,5])\n"
   ]
  },
  {
   "cell_type": "code",
   "execution_count": 109,
   "id": "469f15ee-818b-4805-8786-c98c702fa68a",
   "metadata": {},
   "outputs": [
    {
     "data": {
      "text/plain": [
       "1.0376199603029352"
      ]
     },
     "execution_count": 109,
     "metadata": {},
     "output_type": "execute_result"
    }
   ],
   "source": [
    "leakage_flux(r[\"mass\"][1,1,1,1],r[\"p\"][1,1,1,1]) / leakage_flux(r[\"mass\"][1,1,1,5],r[\"p\"][1,1,1,5])"
   ]
  },
  {
   "cell_type": "code",
   "execution_count": 15,
   "id": "5a4e2bb1-25de-482d-8d31-d039fddffa27",
   "metadata": {},
   "outputs": [
    {
     "ename": "LoadError",
     "evalue": "UndefVarError: get_C not defined",
     "output_type": "error",
     "traceback": [
      "UndefVarError: get_C not defined",
      "",
      "Stacktrace:",
      " [1] top-level scope",
      "   @ In[15]:5",
      " [2] eval",
      "   @ ./boot.jl:368 [inlined]",
      " [3] include_string(mapexpr::typeof(REPL.softscope), mod::Module, code::String, filename::String)",
      "   @ Base ./loading.jl:1428"
     ]
    }
   ],
   "source": [
    "r = JLD2.load(\"../data/detox_simulations_rand.jld2\")\n",
    "\n",
    "cor_mat = map(x -> cor(x.kw.au, x.u[:,end]), r[\"p\"])\n",
    "\n",
    "C_mass = get_C.(r[\"mass\"])\n",
    "R_mass = get_R.(r[\"mass\"]);\n",
    "up_flux = get_uptake_flux.(r[\"mass\"],r[\"p\"])\n",
    "\n",
    "#unstable solutions\n",
    "\n",
    "\n",
    "# #relative mass\n",
    "ΔC = similar(C_mass)\n",
    "ΔR = similar(C_mass)\n",
    "ΔU = similar(C_mass)\n",
    "\n",
    "\n",
    "for rep = 1:size(C_mass)[1]\n",
    "    ΔC[rep,:,:,:] = 100((C_mass[rep,:,:] .- C_mass[rep,:,1]) ./ C_mass[rep,:,1])\n",
    "    ΔR[rep,:,:,:] = 100((R_mass[rep,:,:] .- R_mass[rep,:,1]) ./ R_mass[rep,:,1])\n",
    "    ΔU[rep,:,:,:] = 100((up_flux[rep,:,:] .- up_flux[rep,:,1]) ./ up_flux[rep,:,1])\n",
    "    \n",
    "    # ΔC[rep,:,:,:] = (C_mass[rep,:,:,:] .- C_mass[rep,:,:,1])\n",
    "    # ΔR[rep,:,:,:] = (R_mass[rep,:,:,:] .- R_mass[rep,:,:,1])\n",
    "    # ΔU[rep,:,:,:] = (up_flux[rep,:,:,:] .- up_flux[rep,:,:,1])\n",
    "end\n"
   ]
  },
  {
   "cell_type": "code",
   "execution_count": null,
   "id": "5c8063c9-136c-4208-8346-d315aa40c542",
   "metadata": {},
   "outputs": [],
   "source": []
  },
  {
   "cell_type": "code",
   "execution_count": 18,
   "id": "93bb42e9-20c8-4004-bdf5-7294bb881ed9",
   "metadata": {
    "tags": []
   },
   "outputs": [],
   "source": [
    "cor_mat = similar(r[\"mass\"], Float64)\n",
    "\n",
    "for i = eachindex(r[\"p\"])\n",
    "    extant_ind = findall(r[\"mass\"][i][1:25] .> eps())\n",
    "    if !isempty(extant_ind)\n",
    "        cor_mat[i] = cor(r[\"p\"][i].kw.au[extant_ind], r[\"p\"][i].u[extant_ind,end])\n",
    "    else\n",
    "        cor_mat[i] = NaN\n",
    "    end\n",
    "end"
   ]
  },
  {
   "cell_type": "code",
   "execution_count": 16,
   "id": "70656678-01a2-4619-be7b-4f888df2f3ef",
   "metadata": {},
   "outputs": [
    {
     "data": {
      "text/plain": [
       "NaN"
      ]
     },
     "execution_count": 16,
     "metadata": {},
     "output_type": "execute_result"
    }
   ],
   "source": [
    "cor(cor_mat[:,1,8], ΔC[:,1,8])"
   ]
  },
  {
   "cell_type": "code",
   "execution_count": 32,
   "id": "1dd51429-0611-422c-aa0b-62cc2d9974df",
   "metadata": {},
   "outputs": [
    {
     "data": {
      "text/plain": [
       "0.27035753226686104"
      ]
     },
     "execution_count": 32,
     "metadata": {},
     "output_type": "execute_result"
    }
   ],
   "source": [
    "cor(cor_mat[:,2,8][.!isnan.(cor_mat[:,2,8])], ΔC[:,2,8][.!isnan.(cor_mat[:,2,8])])"
   ]
  },
  {
   "cell_type": "markdown",
   "id": "57c310f2-8bae-4146-a818-df7c74c914b1",
   "metadata": {},
   "source": [
    "### Interpretation\n",
    "\n",
    "Overall the system response to stressors seems stronger in specialised communites. There is no differnce in the intrinsic susceptability "
   ]
  },
  {
   "cell_type": "code",
   "execution_count": 202,
   "id": "56c408a5-47dc-4636-88b4-6db8ef761bf0",
   "metadata": {},
   "outputs": [
    {
     "data": {
      "image/png": "[encoded data removed]"
     },
     "execution_count": 202,
     "metadata": {},
     "output_type": "execute_result"
    }
   ],
   "source": [
    "f = Figure(resolution = (800,300))\n",
    "\n",
    "ax = [Axis(f[1,i]) for i = 1:3]\n",
    "[heatmap!(ax[i], C_mass[:,:,i,1]', colorrange = extrema(C_mass[:,:,:,1])) for i = eachindex(ax)] \n",
    "Colorbar(f[2,1:3],colorrange = extrema(C_mass[:,:,:,1]), vertical = false)\n",
    "\n",
    "f"
   ]
  },
  {
   "cell_type": "code",
   "execution_count": 168,
   "id": "99a781e5-a35c-459c-8266-87b056c3726d",
   "metadata": {},
   "outputs": [
    {
     "ename": "LoadError",
     "evalue": "ArgumentError: start and stop must be finite, got NaN and NaN",
     "output_type": "error",
     "traceback": [
      "ArgumentError: start and stop must be finite, got NaN and NaN",
      "",
      "Stacktrace:",
      "  [1] _linspace(start::Float64, stop::Float64, len::Int64)",
      "    @ Base ./twiceprecision.jl:689",
      "  [2] range_start_stop_length(start::Float64, stop::Float64, len::Int64)",
      "    @ Base ./twiceprecision.jl:684",
      "  [3] _range",
      "    @ ./range.jl:157 [inlined]",
      "  [4] #range#69",
      "    @ ./range.jl:140 [inlined]",
      "  [5] pick_hist_edges(vals::Vector{Any}, bins::Int64)",
      "    @ Makie ~/.julia/packages/Makie/Ggejq/src/stats/hist.jl:77",
      "  [6] #map#13",
      "    @ ~/.julia/packages/Observables/PHGQ8/src/Observables.jl:564 [inlined]",
      "  [7] map(f::typeof(Makie.pick_hist_edges), arg1::Observable{Vector{Any}}, args::Observable{Any})",
      "    @ Observables ~/.julia/packages/Observables/PHGQ8/src/Observables.jl:562",
      "  [8] plot!(plot::Combined{Makie.hist, Tuple{Vector{Any}}})",
      "    @ Makie ~/.julia/packages/Makie/Ggejq/src/stats/hist.jl:89",
      "  [9] plot!(scene::Scene, P::Type{Combined{Makie.hist, Tuple{Vector{Any}}}}, attributes::Attributes, input::Tuple{Observable{Vector{Any}}}, args::Observable{Tuple{Vector{Any}}})",
      "    @ Makie ~/.julia/packages/Makie/Ggejq/src/interfaces.jl:420",
      " [10] plot!(scene::Scene, P::Type{Combined{Makie.hist}}, attributes::Attributes, args::Vector{Any}; kw_attributes::Base.Pairs{Symbol, Union{}, Tuple{}, NamedTuple{(), Tuple{}}})",
      "    @ Makie ~/.julia/packages/Makie/Ggejq/src/interfaces.jl:335",
      " [11] plot!(scene::Scene, P::Type{Combined{Makie.hist}}, attributes::Attributes, args::Vector{Any})",
      "    @ Makie ~/.julia/packages/Makie/Ggejq/src/interfaces.jl:302",
      " [12] plot(P::Type{Combined{Makie.hist}}, args::Vector{Any}; axis::NamedTuple{(), Tuple{}}, figure::NamedTuple{(), Tuple{}}, kw_attributes::Base.Pairs{Symbol, Union{}, Tuple{}, NamedTuple{(), Tuple{}}})",
      "    @ Makie ~/.julia/packages/Makie/Ggejq/src/figureplotting.jl:48",
      " [13] plot",
      "    @ ~/.julia/packages/Makie/Ggejq/src/figureplotting.jl:31 [inlined]",
      " [14] #hist#808",
      "    @ ~/.julia/packages/MakieCore/JjXvr/src/recipes.jl:34 [inlined]",
      " [15] hist(args::Vector{Any})",
      "    @ Makie ~/.julia/packages/MakieCore/JjXvr/src/recipes.jl:33",
      " [16] top-level scope",
      "    @ In[168]:1",
      " [17] eval",
      "    @ ./boot.jl:368 [inlined]",
      " [18] include_string(mapexpr::typeof(REPL.softscope), mod::Module, code::String, filename::String)",
      "    @ Base ./loading.jl:1428"
     ]
    }
   ],
   "source": [
    "heatmap"
   ]
  },
  {
   "cell_type": "markdown",
   "id": "3aa2475a-bae8-4d2e-998d-7bda0713a3a9",
   "metadata": {},
   "source": [
    "# approximations"
   ]
  },
  {
   "cell_type": "markdown",
   "id": "066751f4-56c4-4826-9562-f8225d889583",
   "metadata": {},
   "source": [
    "\\begin{align}\n",
    "        R_{tot}^* &\\approx \\frac{\\bar{m} +u_s R_s^*}{\\bar{u} (1 - \\lambda)} \\\\\n",
    "        C_{tot}^* &\\approx \\frac{\\rho_{tot} - \\omega_{tot}}{(1 - \\lambda) \\bar{u} R_{tot}^*} = \\frac{\\rho_{tot} - \\omega_{tot}}{\\bar{m} +u_s R_s^*}\n",
    "\\end{align}\n",
    "\n",
    "Adding stressor will increase resource abundance but reduce consumer biomass\n",
    "\n",
    "\\begin{align}\n",
    "    u_{tot} = (1-\\lambda) \\sum_{i,\\alpha} u_{i \\alpha} C_i R_i \\approx \\bar{u} R_{tot} C_{tot} = \\frac{\\rho_{tot} - \\omega_{tot}}{(1 - \\lambda)}\n",
    "\\end{align}"
   ]
  },
  {
   "cell_type": "code",
   "execution_count": 907,
   "id": "6126d21c-5aca-4920-86be-c7446bb8beda",
   "metadata": {},
   "outputs": [
    {
     "data": {
      "text/plain": [
       "f_Rs (generic function with 1 method)"
      ]
     },
     "execution_count": 907,
     "metadata": {},
     "output_type": "execute_result"
    }
   ],
   "source": [
    "#testing quantities\n",
    "f_Rtot(p,Rs) = mean(p.m + p.u[:,end] * Rs) / (mean(p.u[:,1:24]) * (1 - p.kw.λ))\n",
    "f_Ctot(p,Rs) = (sum(p.ρ) - f_Rtot(p, Rs))/((1 - p.kw.λ)*mean(p.u[:,1:24]) * f_Rtot(p,Rs))\n",
    "f_Rs(p,Ctot) = p.ρ[end] / (p.ω[end] + Ctot) "
   ]
  },
  {
   "cell_type": "code",
   "execution_count": 920,
   "id": "2bc247ef-f691-4fe7-9a0f-8a57884570af",
   "metadata": {},
   "outputs": [],
   "source": [
    "p_ = r[\"p\"][1,20,20,3,end]\n",
    "m_ = r[\"mass\"][1,20,20,3,end];"
   ]
  },
  {
   "cell_type": "code",
   "execution_count": 921,
   "id": "86e8128b-d64e-4869-ade9-ec1cb1cf93ea",
   "metadata": {},
   "outputs": [
    {
     "name": "stdout",
     "output_type": "stream",
     "text": [
      "resources: 82.53566061939888  80.15459944801874\n",
      "Consumers: 516.4662718737012  519.8408117700154\n",
      "Stressor: 0.0019324931002345043  0.0019199724318868547\n"
     ]
    }
   ],
   "source": [
    "println(\"resources: \", sum(m_[26:end-1]),\"  \",f_Rtot(p_,m_[end]))\n",
    "println(\"Consumers: \", sum(m_[1:25]),\"  \",f_Ctot(p_,m_[end]))\n",
    "println(\"Stressor: \",  m_[end],\"  \",Rs(p_,f_Ctot(p_,m_[end])))"
   ]
  }
 ],
 "metadata": {
  "kernelspec": {
   "display_name": "Julia 1.8.1",
   "language": "julia",
   "name": "julia-1.8"
  },
  "language_info": {
   "file_extension": ".jl",
   "mimetype": "application/julia",
   "name": "julia",
   "version": "1.8.1"
  }
 },
 "nbformat": 4,
 "nbformat_minor": 5
}
