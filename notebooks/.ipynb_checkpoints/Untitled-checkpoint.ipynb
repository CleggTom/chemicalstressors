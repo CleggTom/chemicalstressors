{
 "cells": [
  {
   "cell_type": "code",
   "execution_count": 5,
   "id": "06e650bb-a7a5-476a-b840-f58ae794960b",
   "metadata": {},
   "outputs": [],
   "source": [
    "from sympy import *"
   ]
  },
  {
   "cell_type": "code",
   "execution_count": 8,
   "id": "6c11bc5c-5ec0-4fb7-903c-acb8b6cd838b",
   "metadata": {},
   "outputs": [],
   "source": [
    "C_tot,R_tot,R_s = symbols('C_tot,R_tot,R_s')\n",
    "m,u,λ,ρ,u_s,ρ_s,ω_s = symbols('m,u,λ,ρ,u_s,ρ_s,ω_s')"
   ]
  },
  {
   "cell_type": "code",
   "execution_count": 11,
   "id": "2a6cef2c-7385-4971-992f-47665c515672",
   "metadata": {},
   "outputs": [
    {
     "data": {
      "text/latex": [
       "$\\displaystyle ω_{s}$"
      ],
      "text/plain": [
       "ω_s"
      ]
     },
     "execution_count": 11,
     "metadata": {},
     "output_type": "execute_result"
    }
   ],
   "source": []
  }
 ],
 "metadata": {
  "kernelspec": {
   "display_name": "Python 3 (ipykernel)",
   "language": "python",
   "name": "python3"
  },
  "language_info": {
   "codemirror_mode": {
    "name": "ipython",
    "version": 3
   },
   "file_extension": ".py",
   "mimetype": "text/x-python",
   "name": "python",
   "nbconvert_exporter": "python",
   "pygments_lexer": "ipython3",
   "version": "3.9.13"
  }
 },
 "nbformat": 4,
 "nbformat_minor": 5
}
