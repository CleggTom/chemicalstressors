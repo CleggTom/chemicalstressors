{
 "cells": [
  {
   "cell_type": "code",
   "execution_count": 1,
   "id": "71627399-f642-4858-8613-13966df2fd0f",
   "metadata": {},
   "outputs": [
    {
     "name": "stderr",
     "output_type": "stream",
     "text": [
      "\u001b[32m\u001b[1m  Activating\u001b[22m\u001b[39m environment at `~/Projects/Working/ErCite/chemicalstressors/Project.toml`\n",
      "┌ Info: Precompiling MiCRM [a39c0ef7-b77e-47b1-a1dd-f967908226eb]\n",
      "└ @ Base loading.jl:1342\n"
     ]
    }
   ],
   "source": [
    "using Pkg\n",
    "Pkg.activate(\"..\")\n",
    "\n",
    "using Distributions, CairoMakie, LinearAlgebra, Symbolics, MiCRM"
   ]
  },
  {
   "cell_type": "markdown",
   "id": "1ea37820-c5d4-4f07-9ad5-192d4d19fcf4",
   "metadata": {},
   "source": [
    "# MiCRM system\n",
    "In this notebook I will derive some quantities of interest when considering the effects of chemical perturbations on microbial communties."
   ]
  },
  {
   "cell_type": "markdown",
   "id": "65325827-f581-4ef7-945f-965eefeb5910",
   "metadata": {},
   "source": [
    "## ODE System\n",
    "\n",
    "We start with a slight modification of the MiCRM equations to include an external stressor $S$ with the sensitvtiy of each consumer poulation to the stressor given by $\\gamma_i$\n",
    "\n",
    "\\begin{align}\n",
    "    \\frac{d C_i}{d t} &= C_i \\left[\\sum_\\alpha u_{i \\alpha} R_{\\alpha}\\left(1-\\sum_{\\beta}l_{\\alpha \\beta}\\right) - m_i - \\gamma_i S \\right] \\\\\n",
    "    \\frac{d R_{\\alpha}}{d t} &= \\rho_{\\alpha} - \\omega_{\\alpha} R_{\\alpha} - \\sum_i u_{i \\alpha} C_i R_{\\alpha} + \\sum_{i \\beta} u_{i \\beta} C_i R_{\\beta} l_{\\beta \\alpha}\n",
    "\\end{align}"
   ]
  },
  {
   "cell_type": "markdown",
   "id": "4e09df62-877d-40e3-8466-a6863ba063b7",
   "metadata": {},
   "source": [
    "# Press perturbations\n",
    "I first will consider how the equiblirium state of the system changes with the introduction of this stressor, represented by the derivatives w.r.t. $S$:\n",
    "\n",
    "\\begin{align}\n",
    "    \\frac{dC^*_i}{dS} \\quad \\text{and} \\quad \\frac{dR^*_{\\alpha}}{dS}\n",
    "\\end{align}\n",
    "\n",
    "These quantities measure the change in the system with respect to a small constant (press) chemical perturbation."
   ]
  },
  {
   "cell_type": "markdown",
   "id": "c72e8e1a-70ed-453d-9ca4-565817a7cb25",
   "metadata": {},
   "source": [
    "## Matrix Representation\n",
    "In order to calculate the sensitvties I first represent the system in matrix form (where the $^\\mathbf{d}$ superscript indicates a diagnoal matrix of the appropriate size):\n",
    "\n",
    "\\begin{align}\n",
    "    \\frac{d\\mathbf{C^*}}{dt} &= \\mathbf{u} \\mathbf{(1 - L 1)^d} \\mathbf{R^*} - \\mathbf{m} - S\\mathbf{\\gamma} \\\\\n",
    "    \\frac{d\\mathbf{R^*}}{dt} &= \\mathbf{\\rho} - \\mathbf{R^{*d}} \\mathbf{\\omega} - \\mathbf{R^{*d} u' C^*} + \\mathbf{L' R^{*d} u' C^*} \\\\\n",
    "                           &= \\mathbf{\\rho} - \\mathbf{R^{*d}} \\mathbf{\\omega} + \\mathbf{(L' - I) R^{*d} u' C^*}\\\\\n",
    "\\end{align}"
   ]
  },
  {
   "cell_type": "markdown",
   "id": "3f150a56-3506-449e-89a4-2977202aa122",
   "metadata": {},
   "source": [
    "### Consumer derivative\n",
    "Then taking the derivative of the consumer equation we get the resource sensitvity:\n",
    "\\begin{align}\n",
    "    \\gamma &= \\mathbf{u (1 - L1)^d} \\frac{d \\mathbf{R^*}}{dS} \\\\\n",
    "    \\frac{d \\mathbf{R^*}}{dS} &= (\\mathbf{u (1 - L1)^d})^{-1} \\gamma\n",
    "\\end{align}\n",
    "\n",
    "Assuming all resources have the same leakage $\\lambda$ (i.e. all metabolism is equally efficent)\n",
    "\n",
    "\\begin{align}\n",
    "    \\frac{d \\mathbf{R^*}}{dS} &= (\\mathbf{u} (1 - \\lambda)^d)^{-1} \\gamma\n",
    "\\end{align}"
   ]
  },
  {
   "cell_type": "markdown",
   "id": "99f57f5d-c791-4fbd-923f-061ad2a5d3fb",
   "metadata": {},
   "source": [
    "### Resource derivative\n",
    "\n",
    "And the consumer sensitivity from the resource equation:\n",
    "\\begin{align}\n",
    "    \\frac{d \\mathbf{R^{*d}}}{dS} \\omega &= \\mathbf{(L' - I)} \n",
    "    \\left( \\frac{d \\mathbf{R^{*d}}}{dS}  \\mathbf{u' C^*} + \\mathbf{R^{*d}} u' \\frac{d\\mathbf{C^*}}{dS} \\right) \\\\\n",
    "    \\frac{d\\mathbf{C^*}}{dS} &= \\left[ \\mathbf{(L' - I) R^{*d} u' }\n",
    "    \\right]^{-1}\n",
    "    \\left[ \n",
    "    \\frac{d \\mathbf{R^{*d}}}{dS} \\omega - \\mathbf{(L' - I)} \\frac{d \\mathbf{R^{*d}}}{dS}  \\mathbf{u' C^*} \n",
    "    \\right] \\\\\n",
    "    &= \\left[ \\mathbf{(L' - I) R^{*d} u' }\n",
    "    \\right]^{-1}\n",
    "    \\left[ \n",
    "    (\\mathbf{u (1 - L1)^d})^{-1} \\gamma \\omega - \\mathbf{(L' - I)} (\\mathbf{u (1 - L1)^d})^{-1} \\gamma  \\mathbf{u' C^*} \n",
    "    \\right]\n",
    "\\end{align}\n",
    "\n",
    "Note that the derivatives depend on botht the resource and consumer abundances at equilibrium"
   ]
  },
  {
   "cell_type": "markdown",
   "id": "363623ab-ea64-4659-8ba0-d275b187b2f3",
   "metadata": {},
   "source": [
    "## Simulations\n",
    "\n",
    "we can test these quantities with some simulations. "
   ]
  },
  {
   "cell_type": "code",
   "execution_count": 3,
   "id": "77af8b11-d52b-4385-a91c-efa51ef767dc",
   "metadata": {},
   "outputs": [
    {
     "data": {
      "text/plain": [
       "calc_sensitvtiy (generic function with 1 method)"
      ]
     },
     "execution_count": 3,
     "metadata": {},
     "output_type": "execute_result"
    }
   ],
   "source": [
    "#generate system with 'random' parameters\n",
    "\n",
    "N,M = 25,50\n",
    "\n",
    "fu(d) = MiCRM.Parameters.default_u_func(d, 100)\n",
    "\n",
    "p_dict = MiCRM.Parameters.random_micrm_params(N,M,0.5)\n",
    "\n",
    "# p[:u] = diagm(ones(N) .+ randn(N)) * p[:u]\n",
    "\n",
    "p_dict[:γ] = rand(N)\n",
    "p_dict[:S_ind] = N+M+1\n",
    "p_dict[:d] = 0.0\n",
    "p_dict[:ρ] .+= M\n",
    "\n",
    "p = MiCRM.Simulations.dict_to_struct(p_dict,  :par)\n",
    "\n",
    "#define functions to calculate sensitvtiy\n",
    "function dRdS(p,C_extant)   \n",
    "    return(pinv(p.u[C_extant,:] * diagm((ones(p.M) - p.l * ones(p.M)))) * p.γ[C_extant])\n",
    "end\n",
    "\n",
    "function dCdS(p, C_extant, R, C, dR)\n",
    "   leakage_factor = (p.l' - I(p.M))\n",
    "       \n",
    "    a = pinv(leakage_factor * diagm(R) * p.u[C_extant,:]')\n",
    "    b = diagm(dR) * p.ω - leakage_factor * diagm(dR) * p.u[C_extant,:]' * C[C_extant]\n",
    "\n",
    "    return(a * b)\n",
    "end\n",
    "\n",
    "function calc_sensitvtiy(sol)\n",
    "    #get final deriv + assert equilibrium\n",
    "    print(minimum( sol(sol.t[end],Val{1})) )\n",
    "    \n",
    "    #get end masses\n",
    "    C,R = sol[end][1:sol.prob.p.N], sol[end][sol.prob.p.N + 1  : end - 1]\n",
    "    \n",
    "    C_extant = findall(C .> eps())\n",
    "    \n",
    "    dR = dRdS(sol.prob.p, C_extant)\n",
    "    dC = dCdS(sol.prob.p, C_extant, R, C, dR)\n",
    "    \n",
    "    return(vcat(dC[:],dR[:]))\n",
    "end"
   ]
  },
  {
   "cell_type": "code",
   "execution_count": 4,
   "id": "c7152cb3-9fd8-4049-90a6-e4a35ca7ffca",
   "metadata": {},
   "outputs": [
    {
     "data": {
      "text/plain": [
       "dx! (generic function with 1 method)"
      ]
     },
     "execution_count": 4,
     "metadata": {},
     "output_type": "execute_result"
    }
   ],
   "source": [
    "#solve system with stressor\n",
    "#derivatives\n",
    "function growth_MiCRM_stressor!(dx,x,p,i,t)\n",
    "    dx[i] = -x[i] * p.m[i] - (x[i]*x[p.S_ind]*p.γ[i])\n",
    "    for α = 1:p.M\n",
    "        dx[i] += x[i] * x[α + p.N] * p.u[i,α] #uptake\n",
    "        for β = 1:p.M\n",
    "            dx[i] += -x[i] * x[α + p.N] * p.u[i,α] * p.l[α,β] #leakage\n",
    "        end\n",
    "    end\n",
    "end\n",
    "\n",
    "function stressor!(dx,x,p,t)\n",
    "    dx[p.S_ind] = p.d * x[p.S_ind]\n",
    "end\n",
    "\n",
    "#derivative function\n",
    "dx!(dx,x,p,t) = MiCRM.Simulations.dx!(dx,x,p,t;  growth = growth_MiCRM_stressor!, extrinsic = stressor!)\n"
   ]
  },
  {
   "cell_type": "code",
   "execution_count": 7,
   "id": "5320b92e-39f0-496d-895b-182b64d97ef8",
   "metadata": {},
   "outputs": [
    {
     "name": "stdout",
     "output_type": "stream",
     "text": [
      "  0.244186 seconds (987 allocations: 537.219 KiB)\n"
     ]
    },
    {
     "data": {
      "image/png": "[encoded data removed]",
      "text/plain": [
       "Figure()"
      ]
     },
     "execution_count": 7,
     "metadata": {},
     "output_type": "execute_result"
    }
   ],
   "source": [
    "#starting biomass\n",
    "u0 = ones(N+M+1)\n",
    "u0[end] = 0.0\n",
    "#tspan \n",
    "tspan = (0,1e3)\n",
    "#setup prob\n",
    "prob = ODEProblem(dx!,u0, tspan, p)\n",
    "@time sol = solve(prob, AutoTsit5(Rosenbrock23()))\n",
    "\n",
    "f = Figure(resolution = (700,300))\n",
    "ax = Axis(f[1,1], xlabel = \"log(time)\", ylabel = \"Mass\")\n",
    "\n",
    "log_safe(x) = log(max(1e-6, x))\n",
    "\n",
    "[lines!(ax, log.(sol.t), log_safe.(sol[i,:])) for i = 1:(N+M)]\n",
    "\n",
    "f"
   ]
  },
  {
   "cell_type": "code",
   "execution_count": 15,
   "id": "ba571ccc-5379-43b6-a20f-e6b37949891b",
   "metadata": {},
   "outputs": [
    {
     "data": {
      "image/png": "[encoded data removed]",
      "text/plain": [
       "Figure()"
      ]
     },
     "execution_count": 15,
     "metadata": {},
     "output_type": "execute_result"
    }
   ],
   "source": [
    "#introduce small-decaying stressor perturbation\n",
    "u1 = sol[end]\n",
    "u1[p.S_ind] = 2e-3\n",
    "\n",
    "#simulate\n",
    "prob = ODEProblem(dx!,u1, tspan, p)\n",
    "sol1 = solve(prob, AutoTsit5(Rosenbrock23()))\n",
    "\n",
    "f = Figure(resolution = (700,300))\n",
    "ax = Axis(f[1,1], xlabel = \"log(time)\", ylabel = \"Mass\")\n",
    "\n",
    "# lines!(ax, log.(sol1.t), sum(sol1[1:N,:],dims=1)[:])\n",
    "\n",
    "[lines!(ax, log.(sol1.t), sol1[i,:]) for i = 1:(N+M)]\n",
    "\n",
    "ay = Axis(f[1,2], xlabel = \"state var\", ylabel = \"ΔMass\")\n",
    "\n",
    "scatter!(ay,  sol1[end] .- sol[end])\n",
    "\n",
    "f"
   ]
  },
  {
   "cell_type": "code",
   "execution_count": 13,
   "id": "22d52a3c-1d37-47be-af19-23e8e9f07410",
   "metadata": {},
   "outputs": [
    {
     "name": "stdout",
     "output_type": "stream",
     "text": [
      "-0.0030459646204157023"
     ]
    },
    {
     "data": {
      "image/png": "[encoded data removed]",
      "text/plain": [
       "Figure()"
      ]
     },
     "execution_count": 13,
     "metadata": {},
     "output_type": "execute_result"
    }
   ],
   "source": [
    "dS = calc_sensitvtiy(sol)\n",
    "\n",
    "C_extinct = findall(sol[end] .< eps())\n",
    "\n",
    "sol_ind = collect(1 : N+M)\n",
    "deleteat!(sol_ind, C_extinct)\n",
    "\n",
    "obs_change = (sol1[end][sol_ind] .- sol[end][sol_ind]) ./ u1[p.S_ind]\n",
    "\n",
    "f = Figure(resolution = (700,300))\n",
    "ax1 = Axis(f[1,1])\n",
    "scatter!(ax1, obs_change[1: end - p.M], dS[1: end - p.M])\n",
    "\n",
    "ax2 = Axis(f[1,2])\n",
    "scatter!(ax2, obs_change[end - p.M : end], dS[end - p.M : end])\n",
    "\n",
    "f"
   ]
  },
  {
   "cell_type": "markdown",
   "id": "3315e55d-d916-4045-b5dd-040396df4c9f",
   "metadata": {
    "tags": []
   },
   "source": [
    "# Linear Approximation\n",
    "Whilst the expressions above give the longterm response of a community to the presence of a stressor we might also be interested in short-term transitory responses. To characterise these responses it would be useful to know characteristics such as:\n",
    "\n"
   ]
  },
  {
   "cell_type": "markdown",
   "id": "9413fd1d-701b-4d9d-9f6c-3dc84e03fb24",
   "metadata": {},
   "source": [
    "Take a microbial community at equilbirium within which consumers have a given set of stressor susceptabilites. Next we introduce a small quantitiy of a stressor which has a negative effect on the growth rates of consumer populations. For any concentration of stressor the equilibirum masses of consumers and resources shifts by a small amount "
   ]
  },
  {
   "cell_type": "markdown",
   "id": "e68fa2b6-0d81-4b8f-add1-244e63038425",
   "metadata": {},
   "source": [
    "# Resiliance\n",
    "\n",
    "One idea could be to characterise the return time of the system. This is given by the inverse of the dominant eigenvalue of th Jacobian matrix. "
   ]
  },
  {
   "cell_type": "code",
   "execution_count": 25,
   "id": "61199079-8e24-4f7e-9158-2ad8c7397a7a",
   "metadata": {
    "tags": []
   },
   "outputs": [
    {
     "data": {
      "text/plain": [
       "calc_jac (generic function with 1 method)"
      ]
     },
     "execution_count": 25,
     "metadata": {},
     "output_type": "execute_result"
    }
   ],
   "source": [
    "#Function to calculate Jacobian from a given parameter set\n",
    "# This shouls be arround 0!\n",
    "function calc_jac(sol)\n",
    "    p = sol.prob.p\n",
    "\n",
    "    C = sol[end][1:p.N]\n",
    "    R = sol[end][(p.N+1):(end- length(p.S_ind))]\n",
    "    S = sol[end][p.S_ind]\n",
    "    \n",
    "    λ = p.l*ones(p.M)\n",
    "    \n",
    "    #\n",
    "    J = zeros(p.N + p.M + 1, p.N + p.M + 1)\n",
    "    \n",
    "    for i = 1:p.N\n",
    "        for j = 1:p.M\n",
    "            if i == j\n",
    "                J[i,j] = sum(p.u[i,:] .* R .* (1 .- λ)) - p.m[i] - p.γ[i] * S\n",
    "            else\n",
    "                J[i,j] = 0\n",
    "            end\n",
    "        end\n",
    "\n",
    "        for β = 1:p.M\n",
    "            J[i,p.N + β] = p.u[i,β] * C[i] * (1 - λ[β])\n",
    "        end\n",
    "        \n",
    "        J[i, p.S_ind] = -C[i] * p.γ[i]\n",
    "    end\n",
    "\n",
    "    for α = 1:p.M\n",
    "        for j = 1:p.N\n",
    "            J[α + p.N, j] = -R[α] * p.u[j,α] + sum(R .* p.u[j,:] .* p.l[:,α])\n",
    "        end\n",
    "\n",
    "        for β = 1:p.M\n",
    "            if α == β\n",
    "                J[α+p.N,β+p.N] = -p.ω[β] - sum(p.u[:,β] .* C) + sum(p.u[:,β] .* C .* p.l[β,α])\n",
    "            else\n",
    "                J[α+p.N,β+p.N] = sum(p.u[:,β] .* C .* p.l[β,α])\n",
    "            end\n",
    "        end\n",
    "    end\n",
    "    \n",
    "    J[p.S_ind,p.S_ind] = p.d\n",
    "    \n",
    "    return(J)\n",
    "end"
   ]
  },
  {
   "cell_type": "code",
   "execution_count": 32,
   "id": "5b9846aa-5e1b-43f3-9ae5-8e98a1af00b5",
   "metadata": {
    "tags": []
   },
   "outputs": [
    {
     "data": {
      "image/png": "[encoded data removed]",
      "text/plain": [
       "Figure()"
      ]
     },
     "execution_count": 32,
     "metadata": {},
     "output_type": "execute_result"
    }
   ],
   "source": [
    "using Random\n",
    "\n",
    "function rand_stressor(N,M)\n",
    "    p_dict = MiCRM.Parameters.random_micrm_params(N,M,0.4)\n",
    "    \n",
    "    p_dict[:γ] = rand(N)\n",
    "    p_dict[:S_ind] = N+M+1\n",
    "    p_dict[:d] = -1.0\n",
    "    p_dict[:ρ] .+= sqrt(M)\n",
    "    \n",
    "    return(MiCRM.Simulations.dict_to_struct(p_dict, Symbol(\"param\")))\n",
    "end\n",
    "\n",
    "\n",
    "function sys_eq(p)\n",
    "    u0 = ones(p.N+p.M+1)\n",
    "    u0[p.S_ind] = 0.0\n",
    "\n",
    "    #simulate\n",
    "    prob = ODEProblem(dx!,u0, (0.0,1e6), p)\n",
    "    sol1 = solve(prob, AutoTsit5(Rosenbrock23()))\n",
    "    \n",
    "    return(sol1)\n",
    "end\n",
    "\n",
    "function plot_sol!(sol, ax)\n",
    "    [lines!(ax, log.(sol.t), sol[i,:]) for i = 1:(sol.prob.p.N+sol.prob.p.M)]\n",
    "end\n",
    "\n",
    "function remove_extinct(sol)\n",
    "    p = sol.prob.p\n",
    "    \n",
    "    to_keep = findall(sol[end][1:p.N]  .> eps())\n",
    "    to_rm = findall(sol[end][1:p.N]  .< eps())\n",
    "    \n",
    "      p_dict = MiCRM.Simulations.struct_to_dict(p)\n",
    "\n",
    "    #remove from params\n",
    "    p_dict[:u] = p_dict[:u][to_keep,:]\n",
    "    p_dict[:m] = p_dict[:m][to_keep]\n",
    "    p_dict[:γ] = p_dict[:γ][to_keep]\n",
    "    p_dict[:N] = length(to_keep)\n",
    "    p_dict[:S_ind] = p_dict[:N] + p_dict[:M] + 1\n",
    "\n",
    "    p_struct = MiCRM.Simulations.dict_to_struct(p_dict,:param)\n",
    "\n",
    "    u0 = sol(sol.t[end])\n",
    "    deleteat!(u0, to_rm)\n",
    "        \n",
    "    #simulate\n",
    "    prob = ODEProblem(dx!,u0, (0.0,1e6), p_struct)\n",
    "    return(solve(prob, AutoTsit5(Rosenbrock23())))\n",
    "end\n",
    "\n",
    "\n",
    "\n",
    "param = rand_stressor(10,20)\n",
    "sol = sys_eq(param)\n",
    "sol_rm = remove_extinct(sol)\n",
    "\n",
    "f = Figure(resolution = (800,300))\n",
    "\n",
    "plot_sol!(sol, Axis(f[1,1]))\n",
    "plot_sol!(sol_rm, Axis(f[1,2]))\n",
    "\n",
    "J_sol = calc_jac(sol_rm)\n",
    "\n",
    "λ = eigvals(J_sol)\n",
    "\n",
    "scatter!(Axis(f[1,3]),(real(λ)),imag(λ))\n",
    "\n",
    "f"
   ]
  },
  {
   "cell_type": "code",
   "execution_count": 621,
   "id": "bbd8d1e6-6928-4fe5-8686-aa74991d1ffc",
   "metadata": {},
   "outputs": [],
   "source": [
    "λeff = (real(eigvals(J_sol)));"
   ]
  },
  {
   "cell_type": "code",
   "execution_count": 97,
   "id": "3a4fe871-9eaf-4916-a794-0ef9a13e161a",
   "metadata": {},
   "outputs": [
    {
     "data": {
      "image/png": "[encoded data removed]",
      "text/plain": [
       "Figure()"
      ]
     },
     "execution_count": 97,
     "metadata": {},
     "output_type": "execute_result"
    }
   ],
   "source": [
    "function stressor_perterb(sol)\n",
    "    #testing perterbations\n",
    "    p = sol.prob.p\n",
    "    u0 = sol[end]\n",
    "    u0[p.S_ind] = 0.1\n",
    "\n",
    "    prob = ODEProblem(dx!,u0, (0.0,1e6), p)\n",
    "    return(solve(prob, AutoTsit5(Rosenbrock23())))\n",
    "end\n",
    "\n",
    "total_C = (sol, t) -> sum(sol(t)[1:sol.prob.p.N])\n",
    "\n",
    "s = stressor_perterb(sol_rm)\n",
    "\n",
    "t_vec = 0.0:0.1:1000.0\n",
    "\n",
    "f = Figure(resolution = (400,200))\n",
    "lines!(Axis(f[1,1]),log.(t_vec), total_C.(Ref(s), t_vec))\n",
    "f"
   ]
  },
  {
   "cell_type": "code",
   "execution_count": 629,
   "id": "7167e345-cc44-45ea-a7c1-610a14f4a576",
   "metadata": {},
   "outputs": [
    {
     "data": {
      "text/html": [
       "<div data-jscall-id=\"2464\"><script data-jscall-id=\"2465\" type=\"text/javascript\">\n",
       "    function register_resize_handler(remote_origin) {\n",
       "        function resize_callback(event) {\n",
       "            if (event.origin !== remote_origin) {\n",
       "                return;\n",
       "            }\n",
       "            const uuid = event.data[0];\n",
       "            const width = event.data[1];\n",
       "            const height = event.data[2];\n",
       "            const iframe = document.getElementById('6ed7761b-0b35-4af2-a6db-a9a0c247bd6b');\n",
       "            if (iframe) {\n",
       "                iframe.style.width = width + \"px\";\n",
       "                iframe.style.height = height + \"px\";\n",
       "            }\n",
       "        }\n",
       "        if (window.addEventListener) {\n",
       "            window.addEventListener(\"message\", resize_callback, false);\n",
       "        } else if (window.attachEvent) {\n",
       "            window.attachEvent(\"onmessage\", resize_callback);\n",
       "        }\n",
       "    }\n",
       "    register_resize_handler('http://127.0.0.1:9284')\n",
       "\n",
       "</script><iframe scrolling=\"no\" id=\"6ed7761b-0b35-4af2-a6db-a9a0c247bd6b\" data-jscall-id=\"2463\" src=\"http://127.0.0.1:9284/6ed7761b-0b35-4af2-a6db-a9a0c247bd6b\" style=\"position: relative; display: block; width: 100%; height: 100%; padding: 0; overflow: hidden; border: none\"></iframe></div>\n"
      ]
     },
     "execution_count": 629,
     "metadata": {},
     "output_type": "execute_result"
    }
   ],
   "source": [
    "J_sol = calc_jac(sol_rm)\n",
    "x0 = zeros(size(J_sol)[1])\n",
    "x0[end] = 1.0\n",
    "\n",
    "function dx_linear(dx,x,p,t)\n",
    "    mul!(dx, p, x)\n",
    "end\n",
    "\n",
    "prob = prob = ODEProblem(dx_linear,x0, (0.0,1e3), J_sol)\n",
    "sol = solve(prob, AutoTsit5(Rosenbrock23()))\n",
    "f = Figure()\n",
    "ax = Axis(f[1,1])\n",
    "lines!(ax, (sol.t), log_safe.(((sum(sol[1:sol_rm.prob.p.N,:],dims=1)[:]))))\n",
    "# [lines!(sol.t,sum(sol[i,:])) for i = 1:sol_rm.prob.p.N]\n",
    "\n",
    "ax2 = Axis(f[2,1])\n",
    "\n",
    "[lines!(ax2, (sol.t), λ .* sol.t, color = \"black\") for (i,λ) = enumerate(λeff)]\n",
    "\n",
    "\n",
    "# axislegend(ax2)\n",
    "\n",
    "f\n",
    "\n"
   ]
  },
  {
   "cell_type": "code",
   "execution_count": 614,
   "id": "43b352e7-7e19-47a9-9894-3ce30bc8e1cc",
   "metadata": {},
   "outputs": [
    {
     "data": {
      "text/html": [
       "<div data-jscall-id=\"2311\"><script data-jscall-id=\"2312\" type=\"text/javascript\">\n",
       "    function register_resize_handler(remote_origin) {\n",
       "        function resize_callback(event) {\n",
       "            if (event.origin !== remote_origin) {\n",
       "                return;\n",
       "            }\n",
       "            const uuid = event.data[0];\n",
       "            const width = event.data[1];\n",
       "            const height = event.data[2];\n",
       "            const iframe = document.getElementById('b338c0a6-dbc0-4489-9f41-788b6882830a');\n",
       "            if (iframe) {\n",
       "                iframe.style.width = width + \"px\";\n",
       "                iframe.style.height = height + \"px\";\n",
       "            }\n",
       "        }\n",
       "        if (window.addEventListener) {\n",
       "            window.addEventListener(\"message\", resize_callback, false);\n",
       "        } else if (window.attachEvent) {\n",
       "            window.attachEvent(\"onmessage\", resize_callback);\n",
       "        }\n",
       "    }\n",
       "    register_resize_handler('http://127.0.0.1:9284')\n",
       "\n",
       "</script><iframe scrolling=\"no\" id=\"b338c0a6-dbc0-4489-9f41-788b6882830a\" data-jscall-id=\"2310\" src=\"http://127.0.0.1:9284/b338c0a6-dbc0-4489-9f41-788b6882830a\" style=\"position: relative; display: block; width: 100%; height: 100%; padding: 0; overflow: hidden; border: none\"></iframe></div>\n"
      ]
     },
     "execution_count": 614,
     "metadata": {},
     "output_type": "execute_result"
    }
   ],
   "source": [
    "ind = findall(eigvecs(J_sol)[end,:] .!= 0)\n",
    "\n",
    "function cossim(x::Vector{T},y::Vector{T}) where T <: Real  \n",
    "    dot(x,y) / (norm(x)*norm(y))\n",
    "end\n",
    "\n",
    "function cossim(x::Vector{T},y::Vector{T}) where T <: Complex  \n",
    "    sum(conj(x) .* y) / sum(conj(x) .* x) * sum(conj(y) .* y)\n",
    "end\n",
    "\n",
    "mag(c::Complex) = sqrt(c.im^2 + c.re^2)\n",
    "λ_vecs = eigvecs(J_sol)\n",
    "res = zeros(Complex, 30,30)\n",
    "\n",
    "for i = 1:30\n",
    "    for j = 1:30\n",
    "        res[i,j] = cossim((λ_vecs[:,i]),(λ_vecs[:,j])) \n",
    "    end\n",
    "end\n",
    "\n",
    "heatmap(real.(res))"
   ]
  },
  {
   "cell_type": "code",
   "execution_count": 616,
   "id": "c49814ab-6b24-44a0-9377-a5d2f5eea2c3",
   "metadata": {},
   "outputs": [
    {
     "data": {
      "text/plain": [
       "30-element Vector{ComplexF64}:\n",
       "     -6.06855339161444 + 0.0im\n",
       "    -5.785042028906813 + 0.0im\n",
       "    -5.605577092104618 - 0.07857894751455924im\n",
       "    -5.605577092104618 + 0.07857894751455924im\n",
       "    -5.523566795812265 + 0.0im\n",
       "    -5.279617337940534 - 0.06552846974520347im\n",
       "    -5.279617337940534 + 0.06552846974520347im\n",
       "    -5.122929541484946 + 0.0im\n",
       "   -4.9147553351815025 + 0.0im\n",
       "    -4.704981341617951 + 0.0im\n",
       "    -4.660516068136588 + 0.0im\n",
       "    -4.420586597414473 + 0.0im\n",
       "    -4.266519862719505 + 0.0im\n",
       "                       ⋮\n",
       "    -3.152632625529953 + 0.0im\n",
       "   -2.0418968568926394 + 0.0im\n",
       "   -1.0710525763291177 + 0.0im\n",
       "                  -1.0 + 0.0im\n",
       "  -0.22321898489312425 + 0.0im\n",
       "   -0.1841469339636572 + 0.0im\n",
       "  -0.15028596201995306 + 0.0im\n",
       "  -0.10029178080877786 + 0.0im\n",
       "  -0.07562998004746607 + 0.0im\n",
       "  -0.06415710046336118 + 0.0im\n",
       " -0.057780998495658834 + 0.0im\n",
       " -0.053950290035813475 + 0.0im"
      ]
     },
     "execution_count": 616,
     "metadata": {},
     "output_type": "execute_result"
    }
   ],
   "source": [
    "eigvals(J_sol)"
   ]
  },
  {
   "cell_type": "code",
   "execution_count": 598,
   "id": "15750b9a-2f04-451e-9de7-e8f8b6910147",
   "metadata": {},
   "outputs": [
    {
     "data": {
      "text/plain": [
       "30×3 Matrix{ComplexF64}:\n",
       "   0.416333+0.0im    0.466531+0.0im   -0.485264+0.0im\n",
       "   0.274842+0.0im    0.304579+0.0im   -0.313336+0.0im\n",
       "   0.263154+0.0im    0.298793+0.0im   -0.295057+0.0im\n",
       "  0.0861041+0.0im   0.0962886+0.0im  -0.0978882+0.0im\n",
       "  0.0851598+0.0im   0.0958024+0.0im   -0.094807+0.0im\n",
       "   0.116849+0.0im    0.130962+0.0im   -0.130058+0.0im\n",
       "   0.535702+0.0im    0.589033+0.0im   -0.584785+0.0im\n",
       "   0.171109+0.0im    0.191273+0.0im   -0.195082+0.0im\n",
       "   0.278234+0.0im    0.324918+0.0im   -0.305468+0.0im\n",
       "  -0.144457+0.0im   -0.073778+0.0im   0.0707814+0.0im\n",
       " -0.0687701+0.0im  -0.0458505+0.0im   0.0453307+0.0im\n",
       " -0.0575429+0.0im  -0.0410052+0.0im   0.0401597+0.0im\n",
       " -0.0914875+0.0im  -0.0563386+0.0im   0.0542565+0.0im\n",
       "           ⋮                         \n",
       " -0.0897564+0.0im  -0.0559824+0.0im   0.0541514+0.0im\n",
       "  -0.162508+0.0im  -0.0797126+0.0im   0.0766899+0.0im\n",
       "  -0.161612+0.0im  -0.0768093+0.0im   0.0738616+0.0im\n",
       " -0.0798236+0.0im  -0.0501433+0.0im   0.0489718+0.0im\n",
       "   -0.10018+0.0im  -0.0576134+0.0im   0.0563142+0.0im\n",
       " -0.0840412+0.0im   -0.052128+0.0im   0.0518257+0.0im\n",
       "   -0.10926+0.0im   -0.062295+0.0im   0.0617329+0.0im\n",
       " -0.0852582+0.0im  -0.0532192+0.0im   0.0509756+0.0im\n",
       "  -0.130793+0.0im  -0.0697621+0.0im   0.0666135+0.0im\n",
       " -0.0985619+0.0im  -0.0583613+0.0im   0.0565173+0.0im\n",
       " -0.0924016+0.0im  -0.0554901+0.0im   0.0533624+0.0im\n",
       "        0.0+0.0im         0.0+0.0im  0.00335027+0.0im"
      ]
     },
     "execution_count": 598,
     "metadata": {},
     "output_type": "execute_result"
    }
   ],
   "source": [
    "λ_vecs[:,20:22]"
   ]
  },
  {
   "cell_type": "code",
   "execution_count": 551,
   "id": "594987c9-b6da-4747-9ae6-6dd5d51b4beb",
   "metadata": {},
   "outputs": [
    {
     "data": {
      "text/plain": [
       "-1 + 0im"
      ]
     },
     "execution_count": 551,
     "metadata": {},
     "output_type": "execute_result"
    }
   ],
   "source": [
    "complex(0,1) * complex(0,1)"
   ]
  },
  {
   "cell_type": "code",
   "execution_count": 560,
   "id": "797736fe-7afb-4a88-9de7-67ed84b09be0",
   "metadata": {},
   "outputs": [
    {
     "data": {
      "text/plain": [
       "1 + 0im"
      ]
     },
     "execution_count": 560,
     "metadata": {},
     "output_type": "execute_result"
    }
   ],
   "source": [
    "conj(x)[1] * x[1]"
   ]
  },
  {
   "cell_type": "code",
   "execution_count": 496,
   "id": "a14c7972-d5f5-46d6-a542-47aa9dd549b7",
   "metadata": {},
   "outputs": [
    {
     "data": {
      "text/plain": [
       "3×3 Matrix{Float64}:\n",
       " -0.323532  0.661709  0.676364\n",
       "  0.753195  0.437053  0.491611\n",
       "  0.0       1.0       0.0"
      ]
     },
     "execution_count": 496,
     "metadata": {},
     "output_type": "execute_result"
    }
   ],
   "source": [
    "function dx_lin!(dx,x,p,t)\n",
    "    mul!(dx,p,x)\n",
    "end\n",
    "\n",
    "A = [-1.0 0.6 -1.0;\n",
    "     1.1 -2.0 -1.0;\n",
    "     0.0 0.0 -1.0]\n",
    "\n",
    "tspan = (0,100)\n",
    "\n",
    "x0 = [0.0,0.0,1.0]\n",
    "\n",
    "\n",
    "prob = ODEProblem(dx_lin!,x0,tspan , A)\n",
    "sol = solve(prob, AutoTsit5(Rosenbrock32()));\n",
    "\n",
    "λ_vec = mapslices(normalize, eigvecs(A), dims = 2)"
   ]
  },
  {
   "cell_type": "code",
   "execution_count": 497,
   "id": "696340f9-a3b7-45ef-807d-ceecf7a60abf",
   "metadata": {},
   "outputs": [
    {
     "data": {
      "text/plain": [
       "3-element Vector{Float64}:\n",
       " -2.4539392014169454\n",
       " -1.0\n",
       " -0.5460607985830543"
      ]
     },
     "execution_count": 497,
     "metadata": {},
     "output_type": "execute_result"
    }
   ],
   "source": [
    "eigvals(A)"
   ]
  },
  {
   "cell_type": "code",
   "execution_count": 498,
   "id": "48f006b0-e8f5-42cf-ad0d-d1832a6120f2",
   "metadata": {
    "tags": []
   },
   "outputs": [
    {
     "data": {
      "text/html": [
       "<div data-jscall-id=\"2209\"><script data-jscall-id=\"2210\" type=\"text/javascript\">\n",
       "    function register_resize_handler(remote_origin) {\n",
       "        function resize_callback(event) {\n",
       "            if (event.origin !== remote_origin) {\n",
       "                return;\n",
       "            }\n",
       "            const uuid = event.data[0];\n",
       "            const width = event.data[1];\n",
       "            const height = event.data[2];\n",
       "            const iframe = document.getElementById('c547f57f-91f1-4394-9b0f-7f44ccd57ffa');\n",
       "            if (iframe) {\n",
       "                iframe.style.width = width + \"px\";\n",
       "                iframe.style.height = height + \"px\";\n",
       "            }\n",
       "        }\n",
       "        if (window.addEventListener) {\n",
       "            window.addEventListener(\"message\", resize_callback, false);\n",
       "        } else if (window.attachEvent) {\n",
       "            window.attachEvent(\"onmessage\", resize_callback);\n",
       "        }\n",
       "    }\n",
       "    register_resize_handler('http://127.0.0.1:9284')\n",
       "\n",
       "</script><iframe scrolling=\"no\" id=\"c547f57f-91f1-4394-9b0f-7f44ccd57ffa\" data-jscall-id=\"2208\" src=\"http://127.0.0.1:9284/c547f57f-91f1-4394-9b0f-7f44ccd57ffa\" style=\"position: relative; display: block; width: 100%; height: 100%; padding: 0; overflow: hidden; border: none\"></iframe></div>\n"
      ]
     },
     "execution_count": 498,
     "metadata": {},
     "output_type": "execute_result"
    }
   ],
   "source": [
    "f = Figure()\n",
    "ax = Axis3(f[1,1], aspect = (1,1,1), azimuth = 1.2pi)\n",
    "\n",
    "res = hcat(sol.(0.0:0.1:100.0)...)\n",
    "\n",
    "lines!(ax, res[1,:],res[2,:],res[3,:], color = \"red\")\n",
    "\n",
    "lines!(ax, [hcat(-λ_vec[:,1], λ_vec[:,1])[i,:] for i = 1:3]...,color = \"blue\")\n",
    "lines!(ax, [hcat(-λ_vec[:,2], λ_vec[:,2])[i,:] for i = 1:3]...,color = \"green\")\n",
    "lines!(ax, [hcat(-λ_vec[:,3], λ_vec[:,3])[i,:] for i = 1:3]...,color = \"yellow\")\n",
    "\n",
    "f "
   ]
  },
  {
   "cell_type": "code",
   "execution_count": 467,
   "id": "969be4aa-9270-453e-a05e-b494c9a2432e",
   "metadata": {},
   "outputs": [
    {
     "data": {
      "text/plain": [
       "3×3 Matrix{Float64}:\n",
       "  0.0368438  0.0  -0.00450472\n",
       " -0.372086   0.0  -0.000446055\n",
       " -0.331955   0.5   0.49998"
      ]
     },
     "execution_count": 467,
     "metadata": {},
     "output_type": "execute_result"
    }
   ],
   "source": [
    "λ_vec = eigvecs(A)\n",
    "λ_vec = mapslices(normalize, λ_vec, dims = 1) ./ 2"
   ]
  },
  {
   "cell_type": "code",
   "execution_count": 756,
   "id": "46ea54bf-a48d-489b-a05c-b1e8071f1214",
   "metadata": {
    "tags": []
   },
   "outputs": [
    {
     "ename": "LoadError",
     "evalue": "LoadError: UndefVarError: @colorant_str not defined\nin expression starting at In[756]:11",
     "output_type": "error",
     "traceback": [
      "LoadError: UndefVarError: @colorant_str not defined\nin expression starting at In[756]:11",
      "",
      "Stacktrace:",
      " [1] top-level scope",
      "   @ :0",
      " [2] eval",
      "   @ ./boot.jl:360 [inlined]",
      " [3] include_string(mapexpr::typeof(REPL.softscope), mod::Module, code::String, filename::String)",
      "   @ Base ./loading.jl:1116"
     ]
    }
   ],
   "source": [
    "f = Figure()\n",
    "ax = Axis(f[1,1],xlabel=\"x1\",ylabel=\"x2\")\n",
    "a2 = Axis(f[1,2])\n",
    "\n",
    "A = [-1 0.5; \n",
    "     0.05 -1]\n",
    "\n",
    "N_lines = 50\n",
    "θ = range(0,2pi,length = N_lines)\n",
    "\n",
    "range(colorant\"red\", stop=colorant\"green\", length=15)\n",
    "\n",
    "for i = 1:N_lines\n",
    "    # x0 = -λ_vec[:,2] .+ (λ_vec[:,1] .+ λ_vec[:,2]) * range(0,1,length = 10)[i]\n",
    "    # x0 = [[1,1],[0.9,1,],[0.8,1]][i]\n",
    "\n",
    "    x0 = [cos(θ[i]), sin(θ[i])]\n",
    "    normalize!(x0)\n",
    "\n",
    "\n",
    "    prob = ODEProblem(dx_lin!,x0,(0.0,10.0) , A)\n",
    "    sol = solve(prob, AutoTsit5(Rosenbrock32()));\n",
    "\n",
    "    lines!(ax,Tuple.(sol.(0.0:0.1:10.0)), color = \"black\", alpha = 0.1)\n",
    "    \n",
    "    a = mapslices(x -> norm(x, 2), sol[:,:], dims = 1)[:]\n",
    "    \n",
    "    lines!(a2, (sol.t), log.(a), color = θ[i], colormap = :viridis)\n",
    "    \n",
    "end\n",
    "\n",
    "\n",
    "e = eigen(A)\n",
    "vecs = [[0,x] for x = e.vectors]\n",
    "\n",
    "lines!(ax, vecs[:,1]..., color = \"red\", linewidth = 5)\n",
    "lines!(ax, vecs[:,2]..., color = \"blue\", linewidth = 5)\n",
    "\n",
    "\n",
    "x = 1 ./ real.(e.values)\n",
    "\n",
    "lines!(a2, sol.t, x[1] .* sol.t, color = \"red\")\n",
    "lines!(a2, sol.t, x[2] .* sol.t, color = \"blue\")\n",
    "\n",
    "f"
   ]
  },
  {
   "cell_type": "code",
   "execution_count": 742,
   "id": "c26771ee-2703-4e9f-b09f-6bc8ea78ee56",
   "metadata": {},
   "outputs": [
    {
     "data": {
      "text/plain": [
       "Eigen{Float64, Float64, Matrix{Float64}, Vector{Float64}}\n",
       "values:\n",
       "2-element Vector{Float64}:\n",
       " -2.1123724356957947\n",
       " -0.8876275643042053\n",
       "vectors:\n",
       "2×2 Matrix{Float64}:\n",
       " -0.409978  0.975663\n",
       "  0.912096  0.219275"
      ]
     },
     "execution_count": 742,
     "metadata": {},
     "output_type": "execute_result"
    }
   ],
   "source": [
    "e"
   ]
  },
  {
   "cell_type": "code",
   "execution_count": 729,
   "id": "ef22451f-1d01-4749-a18d-e7672e7aa06a",
   "metadata": {},
   "outputs": [
    {
     "data": {
      "text/plain": [
       "2-element Vector{Float64}:\n",
       " -2.0\n",
       " -1.0"
      ]
     },
     "execution_count": 729,
     "metadata": {},
     "output_type": "execute_result"
    }
   ],
   "source": [
    "λ"
   ]
  },
  {
   "cell_type": "code",
   "execution_count": null,
   "id": "0e1eb4fc-e0d4-4123-9eb2-8b7c82bc298e",
   "metadata": {},
   "outputs": [],
   "source": []
  },
  {
   "cell_type": "code",
   "execution_count": 656,
   "id": "612cbe4a-237b-44af-aa7a-8758ba8e896e",
   "metadata": {},
   "outputs": [
    {
     "data": {
      "text/plain": [
       "2-element Vector{Float64}:\n",
       " -1.3535533905932737\n",
       " -0.6464466094067263"
      ]
     },
     "execution_count": 656,
     "metadata": {},
     "output_type": "execute_result"
    }
   ],
   "source": [
    "eigen(A).values"
   ]
  },
  {
   "cell_type": "code",
   "execution_count": 653,
   "id": "10e9ac6f-5d40-4d7d-822b-b4f0d4430d91",
   "metadata": {},
   "outputs": [
    {
     "data": {
      "text/plain": [
       "2×2 Matrix{Float64}:\n",
       "  0.816497  -0.816497\n",
       " -0.57735    0.57735"
      ]
     },
     "execution_count": 653,
     "metadata": {},
     "output_type": "execute_result"
    }
   ],
   "source": [
    "λ_vec_1"
   ]
  },
  {
   "cell_type": "code",
   "execution_count": 258,
   "id": "c66e726c-2d00-43a4-95f1-f62b5df460e8",
   "metadata": {},
   "outputs": [
    {
     "data": {
      "text/latex": [
       "\\begin{equation}\n",
       "\\left[\n",
       "\\begin{array}{c}\n",
       "\\left( C(S_1)_1 R(S_1)_1 u_{1}ˏ_1 + C(S_1)_2 R(S_1)_1 u_{2}ˏ_1 \\right) \\left( -1 + l_{1}ˏ_1 \\right) + \\left( C(S_1)_1 R(S_1)_2 u_{1}ˏ_2 + C(S_1)_2 R(S_1)_2 u_{2}ˏ_2 \\right) l_{2}ˏ_1 \\\\\n",
       "\\left( -1 + l_{2}ˏ_2 \\right) \\left( C(S_1)_1 R(S_1)_2 u_{1}ˏ_2 + C(S_1)_2 R(S_1)_2 u_{2}ˏ_2 \\right) + \\left( C(S_1)_1 R(S_1)_1 u_{1}ˏ_1 + C(S_1)_2 R(S_1)_1 u_{2}ˏ_1 \\right) l_{1}ˏ_2 \\\\\n",
       "\\end{array}\n",
       "\\right]\n",
       "\\end{equation}\n"
      ],
      "text/plain": [
       "2-element Vector{Num}:\n",
       " ((C(S[1]))[1]*(R(S[1]))[1]*u[1, 1] + (C(S[1]))[2]*(R(S[1]))[1]*u[2, 1])*(l[1, 1] - 1) + ((C(S[1]))[1]*(R(S[1]))[2]*u[1, 2] + (C(S[1]))[2]*(R(S[1]))[2]*u[2, 2])*l[2, 1]\n",
       " (l[2, 2] - 1)*((C(S[1]))[1]*(R(S[1]))[2]*u[1, 2] + (C(S[1]))[2]*(R(S[1]))[2]*u[2, 2]) + ((C(S[1]))[1]*(R(S[1]))[1]*u[1, 1] + (C(S[1]))[2]*(R(S[1]))[1]*u[2, 1])*l[1, 2]"
      ]
     },
     "execution_count": 258,
     "metadata": {},
     "output_type": "execute_result"
    }
   ],
   "source": [
    "a = collect(diagm(R) * u' * C)\n",
    "c = collect(l' - I(M))\n",
    "\n",
    "collect(c * a)"
   ]
  },
  {
   "cell_type": "code",
   "execution_count": 257,
   "id": "6d487524-3d2d-4d57-bdda-ae9cc0b46e9e",
   "metadata": {},
   "outputs": [
    {
     "data": {
      "text/latex": [
       "\\begin{equation}\n",
       "\\left[\n",
       "\\begin{array}{c}\n",
       "\\left( C(S_1)_1 R(S_1)_1 u_{1}ˏ_1 + C(S_1)_2 R(S_1)_1 u_{2}ˏ_1 \\right) \\left( -1 + l_{1}ˏ_1 \\right) + \\left( C(S_1)_1 R(S_1)_2 u_{1}ˏ_2 + C(S_1)_2 R(S_1)_2 u_{2}ˏ_2 \\right) l_{2}ˏ_1 \\\\\n",
       "\\left( -1 + l_{2}ˏ_2 \\right) \\left( C(S_1)_1 R(S_1)_2 u_{1}ˏ_2 + C(S_1)_2 R(S_1)_2 u_{2}ˏ_2 \\right) + \\left( C(S_1)_1 R(S_1)_1 u_{1}ˏ_1 + C(S_1)_2 R(S_1)_1 u_{2}ˏ_1 \\right) l_{1}ˏ_2 \\\\\n",
       "\\end{array}\n",
       "\\right]\n",
       "\\end{equation}\n"
      ],
      "text/plain": [
       "2-element Vector{Num}:\n",
       " ((C(S[1]))[1]*(R(S[1]))[1]*u[1, 1] + (C(S[1]))[2]*(R(S[1]))[1]*u[2, 1])*(l[1, 1] - 1) + ((C(S[1]))[1]*(R(S[1]))[2]*u[1, 2] + (C(S[1]))[2]*(R(S[1]))[2]*u[2, 2])*l[2, 1]\n",
       " (l[2, 2] - 1)*((C(S[1]))[1]*(R(S[1]))[2]*u[1, 2] + (C(S[1]))[2]*(R(S[1]))[2]*u[2, 2]) + ((C(S[1]))[1]*(R(S[1]))[1]*u[1, 1] + (C(S[1]))[2]*(R(S[1]))[1]*u[2, 1])*l[1, 2]"
      ]
     },
     "execution_count": 257,
     "metadata": {},
     "output_type": "execute_result"
    }
   ],
   "source": [
    "c * a"
   ]
  },
  {
   "cell_type": "markdown",
   "id": "2b4f8791-39bd-4f2e-9b55-ab176e8509ef",
   "metadata": {},
   "source": [
    "\\begin{align}\n",
    "    \\frac{d \\mathbf{C}}{dt} &= \\mathbf{C} \\odot  \\left[\\ \\mathbf{u} \\ (\\mathbf{1} - \\mathbf{L}) \\ \\mathbf{R} - \\mathbf{m}\\right] \\\\\n",
    "    \\frac{d \\mathbf{R}}{dt} &= \\mathbf{\\rho} - \n",
    "        \\mathbf{R} \\odot \\mathbf{\\omega}   - \n",
    "        \\mathbf{R} \\odot \\mathbf{u}' \\mathbf{C} + \n",
    "        \\mathbf{R} \\odot \\mathbf{L}'  \\mathbf{u}' \\mathbf{C}\n",
    "\\end{align}\n",
    "\n",
    "where $\\odot$ represents the Hadamard product (i.e. elementwise multiplication)"
   ]
  },
  {
   "cell_type": "markdown",
   "id": "811defd1-dad3-407b-bd92-5a4c9d4be642",
   "metadata": {},
   "source": [
    "# Equilibrium"
   ]
  },
  {
   "cell_type": "markdown",
   "id": "85d53310-cbab-444d-9c44-b936403d193b",
   "metadata": {},
   "source": [
    "\\begin{align}\n",
    "    0 &= \\sum_{\\alpha} u_{i \\alpha} R_{\\alpha}^* \\left(1-\\sum_{\\beta}l_{\\alpha \\beta}\\right)  - m_i + s_i S^*\\\\\n",
    "    \\omega_{\\alpha} R_{\\alpha}^* + \\sum_i u_{i \\alpha} C_i^* R_{\\alpha}^* &= \\rho_{\\alpha} + \\sum_{i \\beta} u_{i \\beta} C_i^* R_{\\beta}^* l_{\\beta \\alpha}\n",
    "\\end{align}"
   ]
  },
  {
   "cell_type": "markdown",
   "id": "141f3ec1-44ff-4359-a174-8d791486e4a7",
   "metadata": {},
   "source": [
    "\\begin{align}\n",
    "        \\mathbf{m} &= \\mathbf{u} (\\mathbf{1} - \\mathbf{L} \\mathbf{1}) \\mathbf{R}^* \\\\ \n",
    "        \\mathbf{R} \\odot \\mathbf{\\omega} + \n",
    "        \\mathbf{R} \\odot \\mathbf{u}' \\mathbf{C} &= \n",
    "        \\mathbf{\\rho} + \\mathbf{R} \\odot \\mathbf{L}'  \\mathbf{u}' \\mathbf{C} \n",
    "\\end{align}"
   ]
  },
  {
   "cell_type": "markdown",
   "id": "a27a4a64-f13a-4356-baa8-5110714da21e",
   "metadata": {},
   "source": [
    "# Sensitivity"
   ]
  },
  {
   "cell_type": "markdown",
   "id": "57d2113e-fa7c-481d-b409-637d519f7404",
   "metadata": {},
   "source": [
    "\\begin{align}\n",
    "\\eta_{i,j} = \\frac{d C^*_i}{d m_j} \\quad \\chi_{\\alpha j} = \\frac{d R^*_{\\alpha}}{d m_j}\n",
    "\\end{align}"
   ]
  },
  {
   "cell_type": "markdown",
   "id": "4916d8e2-275a-434a-ac01-f7b7d45f4d6d",
   "metadata": {},
   "source": [
    "\\begin{align}\n",
    "    \\delta_{i,j} &= \\sum_{\\alpha} u_{i \\alpha} \\chi_{\\alpha j} \\left(1-\\sum_{\\beta}l_{\\alpha \\beta}\\right) \\\\\n",
    "    \\omega_{\\alpha} \\chi_{\\alpha j} +\n",
    "    \\sum_i u_{i \\alpha} R_\\alpha^* \\eta_{i j} + \n",
    "    \\sum_i u_{i \\alpha} C_i^* \\chi_{\\alpha j} &= \n",
    "    \\sum_{i \\beta} u_{i \\beta} l_{\\beta \\alpha} C_i^* \\chi_{\\beta j} +\n",
    "    \\sum_{i \\beta} u_{i \\beta} l_{\\beta \\alpha} R_{\\beta}^* \\eta_{i j}\n",
    "\\end{align}"
   ]
  },
  {
   "cell_type": "code",
   "execution_count": null,
   "id": "48b41800-de7a-4963-8ef5-93a65eabe8f3",
   "metadata": {},
   "outputs": [],
   "source": []
  },
  {
   "cell_type": "markdown",
   "id": "53754433-6370-4690-8586-1f141571c65c",
   "metadata": {},
   "source": [
    "\\begin{align}\n",
    "         \\mathbf{\\chi} &= \\mathbf{(u (1 - L1))^{-1} s}\n",
    "\\end{align}"
   ]
  },
  {
   "cell_type": "code",
   "execution_count": 252,
   "id": "ddbfd49a-6cce-47f1-9124-c1af23ac37e9",
   "metadata": {
    "tags": []
   },
   "outputs": [
    {
     "data": {
      "text/plain": [
       "1-element Vector{Symbolics.Arr{Num, 1}}:\n",
       " s[1:2]"
      ]
     },
     "execution_count": 252,
     "metadata": {},
     "output_type": "execute_result"
    }
   ],
   "source": []
  },
  {
   "cell_type": "code",
   "execution_count": 258,
   "id": "27f3e21f-9218-465c-ae08-17b76b9cd673",
   "metadata": {},
   "outputs": [],
   "source": [
    "#replacements\n",
    "D = [Differential(i) for i = m]\n",
    "\n",
    "dC = [D[j](C[i]) for i = 1:N, j = 1:N]\n",
    "dR = [D[j](R[a]) for a = 1:M, j = 1:N]\n",
    "\n",
    "dict_sub = merge(Dict(dC[i] => η[i] for i = 1:(N*N)) , Dict(dR[i] => χ[i] for i = 1:(N*M)));"
   ]
  },
  {
   "cell_type": "code",
   "execution_count": 206,
   "id": "64f8f5c4-db86-4c6a-b334-61eaf3190205",
   "metadata": {
    "collapsed": true,
    "jupyter": {
     "outputs_hidden": true
    },
    "tags": []
   },
   "outputs": [
    {
     "ename": "LoadError",
     "evalue": "DimensionMismatch(\"expected axes(u, 1) = Base.OneTo(3)\")",
     "output_type": "error",
     "traceback": [
      "DimensionMismatch(\"expected axes(u, 1) = Base.OneTo(3)\")",
      "",
      "Stacktrace:",
      "  [1] make_shape(output_idx::Tuple{SymbolicUtils.Sym{Int64, Nothing}, SymbolicUtils.Sym{Int64, Nothing}}, expr::SymbolicUtils.Term{Num, Nothing}, ranges::Dict{Any, Any})",
      "    @ Symbolics ~/.julia/packages/Symbolics/4VdEG/src/arrays.jl:193",
      "  [2] Symbolics.ArrayOp(T::Type, output_idx::Tuple{SymbolicUtils.Sym{Int64, Nothing}, SymbolicUtils.Sym{Int64, Nothing}}, expr::SymbolicUtils.Term{Num, Nothing}, reduce::Function, term::SymbolicUtils.Term{Any, Nothing}, ranges::Dict{Any, Any}; metadata::Nothing)",
      "    @ Symbolics ~/.julia/packages/Symbolics/4VdEG/src/arrays.jl:53",
      "  [3] Symbolics.ArrayOp(T::Type, output_idx::Tuple{SymbolicUtils.Sym{Int64, Nothing}, SymbolicUtils.Sym{Int64, Nothing}}, expr::SymbolicUtils.Term{Num, Nothing}, reduce::Function, term::SymbolicUtils.Term{Any, Nothing}, ranges::Dict{Any, Any})",
      "    @ Symbolics ~/.julia/packages/Symbolics/4VdEG/src/arrays.jl:53",
      "  [4] macro expansion",
      "    @ ~/.julia/packages/Symbolics/4VdEG/src/arrays.jl:145 [inlined]",
      "  [5] _matmul(A::Matrix{Num}, B::SymbolicUtils.Sym{Matrix{Real}, Base.ImmutableDict{DataType, Any}})",
      "    @ Symbolics ~/.julia/packages/Symbolics/4VdEG/src/array-lib.jl:262",
      "  [6] macro expansion",
      "    @ ~/.julia/packages/Symbolics/4VdEG/src/array-lib.jl:265 [inlined]",
      "  [7] var\"*_15573864715759031332\"(A::Matrix{Num}, B::SymbolicUtils.Sym{Matrix{Real}, Base.ImmutableDict{DataType, Any}})",
      "    @ Symbolics ~/.julia/packages/Symbolics/4VdEG/src/wrapper-types.jl:114",
      "  [8] *(A::Matrix{Num}, B::Symbolics.Arr{Num, 2})",
      "    @ Symbolics ~/.julia/packages/Symbolics/4VdEG/src/wrapper-types.jl:123",
      "  [9] *(::Matrix{Num}, ::Symbolics.Arr{Num, 2}, ::Symbolics.Arr{Num, 1})",
      "    @ Base ./operators.jl:560",
      " [10] top-level scope",
      "    @ In[206]:1",
      " [11] eval",
      "    @ ./boot.jl:360 [inlined]",
      " [12] include_string(mapexpr::typeof(REPL.softscope), mod::Module, code::String, filename::String)",
      "    @ Base ./loading.jl:1116"
     ]
    }
   ],
   "source": [
    "x = collect(diagm(collect(ones(M) - l*ones(M))) * u  * R - m)\n",
    "\n",
    "derivs = [expand_derivatives(Symbolics.scalarize(D[j](x[i]))) for i = 1:N, j = 1:M]\n",
    "\n",
    "derivs"
   ]
  },
  {
   "cell_type": "code",
   "execution_count": 185,
   "id": "e37fcb00-de5c-4f07-bb81-e5769e241713",
   "metadata": {},
   "outputs": [
    {
     "data": {
      "text/latex": [
       "\\begin{equation}\n",
       "\\left( 1.0 - l_{1}ˏ_1 - l_{1}ˏ_2 \\right) \\mathrm{\\frac{d}{d m}_{2}}\\left( R(m_1, m_2)_1 \\right) u_{1}ˏ_1 + \\left( 1.0 - l_{1}ˏ_1 - l_{1}ˏ_2 \\right) \\mathrm{\\frac{d}{d m}_{2}}\\left( R(m_1, m_2)_2 \\right) u_{1}ˏ_2\n",
       "\\end{equation}\n"
      ],
      "text/plain": [
       "(1.0 - l[1, 1] - l[1, 2])*Differential(m[2])((R(m[1], m[2]))[1])*u[1, 1] + (1.0 - l[1, 1] - l[1, 2])*Differential(m[2])((R(m[1], m[2]))[2])*u[1, 2]"
      ]
     },
     "execution_count": 185,
     "metadata": {},
     "output_type": "execute_result"
    }
   ],
   "source": [
    "simplify(expand_derivatives(D[2](collect(x)[1])))"
   ]
  },
  {
   "cell_type": "code",
   "execution_count": null,
   "id": "03e484d7-d57f-49b1-92cd-095fbe3458ac",
   "metadata": {},
   "outputs": [
    {
     "ename": "LoadError",
     "evalue": "UndefVarError: M not defined",
     "output_type": "error",
     "traceback": [
      "UndefVarError: M not defined",
      "",
      "Stacktrace:",
      " [1] top-level scope",
      "   @ In[1]:1",
      " [2] eval",
      "   @ ./boot.jl:360 [inlined]",
      " [3] include_string(mapexpr::typeof(REPL.softscope), mod::Module, code::String, filename::String)",
      "   @ Base ./loading.jl:1116"
     ]
    }
   ],
   "source": [
    "l_sum = diagm(collect(ones(M) - l * ones(M)))\n",
    "\n",
    "x = u * l_sum * R\n",
    "\n",
    "collect(x)[1,1]"
   ]
  },
  {
   "cell_type": "code",
   "execution_count": 247,
   "id": "084c45a4-c906-462f-85cc-d71873a8a008",
   "metadata": {},
   "outputs": [
    {
     "data": {
      "text/latex": [
       "\\begin{equation}\n",
       "\\left( 1.0 - l_{1}ˏ_1 - l_{1}ˏ_2 - l_{1}ˏ_3 \\right) u\\left[i, 1\\right] \\chi\\left[1, j\\right] + \\left( 1.0 - l_{2}ˏ_1 - l_{2}ˏ_2 - l_{2}ˏ_3 \\right) u\\left[i, 2\\right] \\chi\\left[2, j\\right] + \\left( 1.0 - l_{3}ˏ_1 - l_{3}ˏ_2 - l_{3}ˏ_3 \\right) u\\left[i, 3\\right] \\chi\\left[3, j\\right]\n",
       "\\end{equation}\n"
      ],
      "text/plain": [
       "(1.0 - l[1, 1] - l[1, 2] - l[1, 3])*u[i, 1]*χ[1, j] + (1.0 - l[2, 1] - l[2, 2] - l[2, 3])*u[i, 2]*χ[2, j] + (1.0 - l[3, 1] - l[3, 2] - l[3, 3])*u[i, 3]*χ[3, j]"
      ]
     },
     "execution_count": 247,
     "metadata": {},
     "output_type": "execute_result"
    }
   ],
   "source": [
    "x = u * l_sum * χ\n",
    "collect(x)[1,1]"
   ]
  },
  {
   "cell_type": "code",
   "execution_count": 253,
   "id": "f8bd7b2e-22ed-41e0-8121-9cb296639369",
   "metadata": {},
   "outputs": [
    {
     "data": {
      "text/plain": [
       "3-element Vector{Float64}:\n",
       " 0.13694498664517196\n",
       " 0.6929457764387534\n",
       " 0.8048118911172846"
      ]
     },
     "execution_count": 253,
     "metadata": {},
     "output_type": "execute_result"
    }
   ],
   "source": [
    "using MiCRM\n",
    "\n",
    "p = MiCRM.Parameters.random_micrm_params(3,10,0.3)\n",
    "p[:s] = rand(3)"
   ]
  },
  {
   "cell_type": "code",
   "execution_count": 255,
   "id": "3847e1bd-557a-484a-b3dc-2f14975ad374",
   "metadata": {},
   "outputs": [
    {
     "data": {
      "text/plain": [
       "10×3 Matrix{Float64}:\n",
       "  0.471817   -1.06454   -0.221669\n",
       " -0.107539   -1.71201    3.70874\n",
       "  0.219675   -0.948587   0.716311\n",
       "  0.0497186   1.44261   -0.896138\n",
       " -0.250729    3.38234   -1.34122\n",
       "  0.0201342   2.12978   -1.52895\n",
       "  0.347826   -1.79566    1.65397\n",
       "  0.331842   -2.17322    1.13206\n",
       " -0.425231    5.48145   -2.7654\n",
       "  0.272299   -0.937044   0.567004"
      ]
     },
     "execution_count": 255,
     "metadata": {},
     "output_type": "execute_result"
    }
   ],
   "source": [
    "l_sum_mat = diagm(ones(p[:M]) - p[:l] * ones(p[:M]))\n",
    "\n",
    "χ_num = pinv(p[:u] * l_sum_mat) * diagm(p[:s])"
   ]
  },
  {
   "cell_type": "code",
   "execution_count": 257,
   "id": "2765dea6-6d9a-4ce8-9248-757c8a60d01a",
   "metadata": {},
   "outputs": [
    {
     "data": {
      "text/plain": [
       "3×3 Matrix{Float64}:\n",
       " 0.136945  0.0       0.0\n",
       " 0.0       0.692946  0.0\n",
       " 0.0       0.0       0.804812"
      ]
     },
     "execution_count": 257,
     "metadata": {},
     "output_type": "execute_result"
    }
   ],
   "source": [
    "diagm(p[:s])"
   ]
  },
  {
   "cell_type": "code",
   "execution_count": 256,
   "id": "4a628486-8c4d-453d-8588-b4d425c0bfa0",
   "metadata": {},
   "outputs": [
    {
     "data": {
      "text/plain": [
       "3×3 Matrix{Float64}:\n",
       " 0.136945     -1.81021e-16   3.40826e-16\n",
       " 4.4646e-17    0.692946     -2.21591e-16\n",
       " 9.40543e-17  -7.70091e-16   0.804812"
      ]
     },
     "execution_count": 256,
     "metadata": {},
     "output_type": "execute_result"
    }
   ],
   "source": [
    "p[:u] * l_sum_mat * χ_num"
   ]
  }
 ],
 "metadata": {
  "kernelspec": {
   "display_name": "Julia 1.6.5",
   "language": "julia",
   "name": "julia-1.6"
  },
  "language_info": {
   "file_extension": ".jl",
   "mimetype": "application/julia",
   "name": "julia",
   "version": "1.6.5"
  }
 },
 "nbformat": 4,
 "nbformat_minor": 5
}
