{
 "cells": [
  {
   "cell_type": "code",
   "execution_count": 5,
   "id": "06e650bb-a7a5-476a-b840-f58ae794960b",
   "metadata": {},
   "outputs": [],
   "source": [
    "from sympy import *"
   ]
  },
  {
   "cell_type": "code",
   "execution_count": 8,
   "id": "6c11bc5c-5ec0-4fb7-903c-acb8b6cd838b",
   "metadata": {},
   "outputs": [],
   "source": [
    "C_tot,R_tot,R_s = symbols('C_tot,R_tot,R_s')\n",
    "m,u,λ,ρ,u_s,ρ_s,ω_s = symbols('m,u,λ,ρ,u_s,ρ_s,ω_s')"
   ]
  },
  {
   "cell_type": "raw",
   "id": "c928a96a-370b-4fa0-8ede-094f4bd1fa57",
   "metadata": {},
   "source": [
    "sR_tot = (m + u_s * R_s) / (u * (1 - λ))\n",
    "sC_tot = ((ρ - R_tot) / ((1 - λ) * u * R_tot)) \n",
    "sR_s = (ρ_s / (ω_s + C_tot))\n",
    "\n",
    "solve([sR_tot, sC_tot, sR_s], [R_tot,C_tot,R_s])"
   ]
  },
  {
   "cell_type": "code",
   "execution_count": 109,
   "id": "d808bc4b-f0b7-4e49-b062-d64dea57c4e1",
   "metadata": {},
   "outputs": [
    {
     "data": {
      "text/latex": [
       "$\\displaystyle \\frac{ρ - \\frac{R_{s} u_{s} + m}{u \\left(1 - λ\\right)}}{R_{s} u_{s} + m}$"
      ],
      "text/plain": [
       "(ρ - (R_s*u_s + m)/(u*(1 - λ)))/(R_s*u_s + m)"
      ]
     },
     "execution_count": 109,
     "metadata": {},
     "output_type": "execute_result"
    }
   ],
   "source": [
    "x = sC_tot.subs({R_tot:sR_tot})\n",
    "x"
   ]
  },
  {
   "cell_type": "code",
   "execution_count": 133,
   "id": "853ce7f7-1765-4310-b20a-47105734a964",
   "metadata": {},
   "outputs": [
    {
     "data": {
      "text/latex": [
       "$\\displaystyle \\frac{ρ}{R_{s} u_{s} + m} - \\frac{1}{u \\left(1 - λ\\right)}$"
      ],
      "text/plain": [
       "ρ/(R_s*u_s + m) - 1/(u*(1 - λ))"
      ]
     },
     "execution_count": 133,
     "metadata": {},
     "output_type": "execute_result"
    }
   ],
   "source": [
    "fC_tot = x.args[1].args[0] * x.args[0] + (x.args[1].args[1]) * x.args[0]\n",
    "\n",
    "fC_tot"
   ]
  },
  {
   "cell_type": "code",
   "execution_count": 134,
   "id": "b0a23d6f-e3d0-4b27-a3e1-6671b78ed23a",
   "metadata": {},
   "outputs": [
    {
     "data": {
      "text/latex": [
       "$\\displaystyle \\frac{R_{s} u_{s} + m}{u \\left(1 - λ\\right)}$"
      ],
      "text/plain": [
       "(R_s*u_s + m)/(u*(1 - λ))"
      ]
     },
     "execution_count": 134,
     "metadata": {},
     "output_type": "execute_result"
    }
   ],
   "source": [
    "sR_tot"
   ]
  }
 ],
 "metadata": {
  "kernelspec": {
   "display_name": "Python 3 (ipykernel)",
   "language": "python",
   "name": "python3"
  },
  "language_info": {
   "codemirror_mode": {
    "name": "ipython",
    "version": 3
   },
   "file_extension": ".py",
   "mimetype": "text/x-python",
   "name": "python",
   "nbconvert_exporter": "python",
   "pygments_lexer": "ipython3",
   "version": "3.9.13"
  }
 },
 "nbformat": 4,
 "nbformat_minor": 5
}
